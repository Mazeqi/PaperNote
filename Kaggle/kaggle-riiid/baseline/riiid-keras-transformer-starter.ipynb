{
 "cells": [
  {
   "cell_type": "markdown",
   "metadata": {
    "papermill": {
     "duration": 0.049311,
     "end_time": "2020-10-30T18:22:55.213053",
     "exception": false,
     "start_time": "2020-10-30T18:22:55.163742",
     "status": "completed"
    },
    "tags": []
   },
   "source": [
    "## Reading Data and Importing Libraries ##"
   ]
  },
  {
   "cell_type": "code",
   "execution_count": 1,
   "metadata": {
    "execution": {
     "iopub.execute_input": "2020-10-30T18:22:55.321978Z",
     "iopub.status.busy": "2020-10-30T18:22:55.321186Z",
     "iopub.status.idle": "2020-10-30T18:22:56.215522Z",
     "shell.execute_reply": "2020-10-30T18:22:56.217193Z"
    },
    "papermill": {
     "duration": 0.953599,
     "end_time": "2020-10-30T18:22:56.217436",
     "exception": false,
     "start_time": "2020-10-30T18:22:55.263837",
     "status": "completed"
    },
    "tags": []
   },
   "outputs": [],
   "source": [
    "import pandas as pd\n",
    "import numpy as np\n",
    "from sklearn.metrics import roc_auc_score"
   ]
  },
  {
   "cell_type": "code",
   "execution_count": 2,
   "metadata": {
    "execution": {
     "iopub.execute_input": "2020-10-30T18:22:56.383991Z",
     "iopub.status.busy": "2020-10-30T18:22:56.383058Z",
     "iopub.status.idle": "2020-10-30T18:27:21.467159Z",
     "shell.execute_reply": "2020-10-30T18:27:21.465653Z"
    },
    "papermill": {
     "duration": 265.168936,
     "end_time": "2020-10-30T18:27:21.467302",
     "exception": false,
     "start_time": "2020-10-30T18:22:56.298366",
     "status": "completed"
    },
    "tags": []
   },
   "outputs": [],
   "source": [
    "train = pd.read_csv('/kaggle/input/riiid-test-answer-prediction/train.csv',\n",
    "                   usecols=[1, 2, 3, 4, 5, 7, 8, 9],\n",
    "                   dtype={'timestamp': 'int64',\n",
    "                          'user_id': 'int32',\n",
    "                          'content_id': 'int16',\n",
    "                          'content_type_id': 'int8',\n",
    "                          'task_container_id': 'int16',\n",
    "                          'answered_correctly':'int8',\n",
    "                          'prior_question_elapsed_time': 'float32',\n",
    "                          'prior_question_had_explanation': 'boolean'}\n",
    "                   )"
   ]
  },
  {
   "cell_type": "code",
   "execution_count": 3,
   "metadata": {
    "execution": {
     "iopub.execute_input": "2020-10-30T18:27:21.570325Z",
     "iopub.status.busy": "2020-10-30T18:27:21.569471Z",
     "iopub.status.idle": "2020-10-30T18:27:21.579175Z",
     "shell.execute_reply": "2020-10-30T18:27:21.578571Z"
    },
    "papermill": {
     "duration": 0.063739,
     "end_time": "2020-10-30T18:27:21.579272",
     "exception": false,
     "start_time": "2020-10-30T18:27:21.515533",
     "status": "completed"
    },
    "tags": []
   },
   "outputs": [],
   "source": [
    "#reading in question df\n",
    "questions_df = pd.read_csv('/kaggle/input/riiid-test-answer-prediction/questions.csv',                         \n",
    "                            usecols=[0, 3],\n",
    "                            dtype={'question_id': 'int16',\n",
    "                              'part': 'int8'}\n",
    "                          )"
   ]
  },
  {
   "cell_type": "code",
   "execution_count": 4,
   "metadata": {
    "execution": {
     "iopub.execute_input": "2020-10-30T18:27:21.678743Z",
     "iopub.status.busy": "2020-10-30T18:27:21.678147Z",
     "iopub.status.idle": "2020-10-30T18:27:21.686012Z",
     "shell.execute_reply": "2020-10-30T18:27:21.685163Z"
    },
    "papermill": {
     "duration": 0.059379,
     "end_time": "2020-10-30T18:27:21.686115",
     "exception": false,
     "start_time": "2020-10-30T18:27:21.626736",
     "status": "completed"
    },
    "tags": []
   },
   "outputs": [],
   "source": [
    "#reading in lecture df\n",
    "lectures_df = pd.read_csv('/kaggle/input/riiid-test-answer-prediction/lectures.csv')"
   ]
  },
  {
   "cell_type": "code",
   "execution_count": 5,
   "metadata": {
    "execution": {
     "iopub.execute_input": "2020-10-30T18:27:21.806102Z",
     "iopub.status.busy": "2020-10-30T18:27:21.805433Z",
     "iopub.status.idle": "2020-10-30T18:27:21.812148Z",
     "shell.execute_reply": "2020-10-30T18:27:21.811648Z"
    },
    "papermill": {
     "duration": 0.078297,
     "end_time": "2020-10-30T18:27:21.812238",
     "exception": false,
     "start_time": "2020-10-30T18:27:21.733941",
     "status": "completed"
    },
    "tags": []
   },
   "outputs": [],
   "source": [
    "lectures_df['type_of'] = lectures_df['type_of'].replace('solving question', 'solving_question')\n",
    "\n",
    "lectures_df = pd.get_dummies(lectures_df, columns=['part', 'type_of'])\n",
    "\n",
    "part_lectures_columns = [column for column in lectures_df.columns if column.startswith('part')]\n",
    "\n",
    "types_of_lectures_columns = [column for column in lectures_df.columns if column.startswith('type_of_')]"
   ]
  },
  {
   "cell_type": "code",
   "execution_count": 6,
   "metadata": {
    "execution": {
     "iopub.execute_input": "2020-10-30T18:27:21.917591Z",
     "iopub.status.busy": "2020-10-30T18:27:21.916882Z",
     "iopub.status.idle": "2020-10-30T18:27:21.927266Z",
     "shell.execute_reply": "2020-10-30T18:27:21.927745Z"
    },
    "papermill": {
     "duration": 0.06796,
     "end_time": "2020-10-30T18:27:21.927852",
     "exception": false,
     "start_time": "2020-10-30T18:27:21.859892",
     "status": "completed"
    },
    "tags": []
   },
   "outputs": [
    {
     "data": {
      "text/html": [
       "<div>\n",
       "<style scoped>\n",
       "    .dataframe tbody tr th:only-of-type {\n",
       "        vertical-align: middle;\n",
       "    }\n",
       "\n",
       "    .dataframe tbody tr th {\n",
       "        vertical-align: top;\n",
       "    }\n",
       "\n",
       "    .dataframe thead th {\n",
       "        text-align: right;\n",
       "    }\n",
       "</style>\n",
       "<table border=\"1\" class=\"dataframe\">\n",
       "  <thead>\n",
       "    <tr style=\"text-align: right;\">\n",
       "      <th></th>\n",
       "      <th>lecture_id</th>\n",
       "      <th>tag</th>\n",
       "      <th>part_1</th>\n",
       "      <th>part_2</th>\n",
       "      <th>part_3</th>\n",
       "      <th>part_4</th>\n",
       "      <th>part_5</th>\n",
       "      <th>part_6</th>\n",
       "      <th>part_7</th>\n",
       "      <th>type_of_concept</th>\n",
       "      <th>type_of_intention</th>\n",
       "      <th>type_of_solving_question</th>\n",
       "      <th>type_of_starter</th>\n",
       "    </tr>\n",
       "  </thead>\n",
       "  <tbody>\n",
       "    <tr>\n",
       "      <th>0</th>\n",
       "      <td>89</td>\n",
       "      <td>159</td>\n",
       "      <td>0</td>\n",
       "      <td>0</td>\n",
       "      <td>0</td>\n",
       "      <td>0</td>\n",
       "      <td>1</td>\n",
       "      <td>0</td>\n",
       "      <td>0</td>\n",
       "      <td>1</td>\n",
       "      <td>0</td>\n",
       "      <td>0</td>\n",
       "      <td>0</td>\n",
       "    </tr>\n",
       "    <tr>\n",
       "      <th>1</th>\n",
       "      <td>100</td>\n",
       "      <td>70</td>\n",
       "      <td>1</td>\n",
       "      <td>0</td>\n",
       "      <td>0</td>\n",
       "      <td>0</td>\n",
       "      <td>0</td>\n",
       "      <td>0</td>\n",
       "      <td>0</td>\n",
       "      <td>1</td>\n",
       "      <td>0</td>\n",
       "      <td>0</td>\n",
       "      <td>0</td>\n",
       "    </tr>\n",
       "    <tr>\n",
       "      <th>2</th>\n",
       "      <td>185</td>\n",
       "      <td>45</td>\n",
       "      <td>0</td>\n",
       "      <td>0</td>\n",
       "      <td>0</td>\n",
       "      <td>0</td>\n",
       "      <td>0</td>\n",
       "      <td>1</td>\n",
       "      <td>0</td>\n",
       "      <td>1</td>\n",
       "      <td>0</td>\n",
       "      <td>0</td>\n",
       "      <td>0</td>\n",
       "    </tr>\n",
       "    <tr>\n",
       "      <th>3</th>\n",
       "      <td>192</td>\n",
       "      <td>79</td>\n",
       "      <td>0</td>\n",
       "      <td>0</td>\n",
       "      <td>0</td>\n",
       "      <td>0</td>\n",
       "      <td>1</td>\n",
       "      <td>0</td>\n",
       "      <td>0</td>\n",
       "      <td>0</td>\n",
       "      <td>0</td>\n",
       "      <td>1</td>\n",
       "      <td>0</td>\n",
       "    </tr>\n",
       "    <tr>\n",
       "      <th>4</th>\n",
       "      <td>317</td>\n",
       "      <td>156</td>\n",
       "      <td>0</td>\n",
       "      <td>0</td>\n",
       "      <td>0</td>\n",
       "      <td>0</td>\n",
       "      <td>1</td>\n",
       "      <td>0</td>\n",
       "      <td>0</td>\n",
       "      <td>0</td>\n",
       "      <td>0</td>\n",
       "      <td>1</td>\n",
       "      <td>0</td>\n",
       "    </tr>\n",
       "  </tbody>\n",
       "</table>\n",
       "</div>"
      ],
      "text/plain": [
       "   lecture_id  tag  part_1  part_2  part_3  part_4  part_5  part_6  part_7  \\\n",
       "0          89  159       0       0       0       0       1       0       0   \n",
       "1         100   70       1       0       0       0       0       0       0   \n",
       "2         185   45       0       0       0       0       0       1       0   \n",
       "3         192   79       0       0       0       0       1       0       0   \n",
       "4         317  156       0       0       0       0       1       0       0   \n",
       "\n",
       "   type_of_concept  type_of_intention  type_of_solving_question  \\\n",
       "0                1                  0                         0   \n",
       "1                1                  0                         0   \n",
       "2                1                  0                         0   \n",
       "3                0                  0                         1   \n",
       "4                0                  0                         1   \n",
       "\n",
       "   type_of_starter  \n",
       "0                0  \n",
       "1                0  \n",
       "2                0  \n",
       "3                0  \n",
       "4                0  "
      ]
     },
     "execution_count": 6,
     "metadata": {},
     "output_type": "execute_result"
    }
   ],
   "source": [
    "lectures_df.head()"
   ]
  },
  {
   "cell_type": "code",
   "execution_count": 7,
   "metadata": {
    "execution": {
     "iopub.execute_input": "2020-10-30T18:27:22.030880Z",
     "iopub.status.busy": "2020-10-30T18:27:22.030110Z",
     "iopub.status.idle": "2020-10-30T18:27:22.808679Z",
     "shell.execute_reply": "2020-10-30T18:27:22.807503Z"
    },
    "papermill": {
     "duration": 0.831637,
     "end_time": "2020-10-30T18:27:22.808805",
     "exception": false,
     "start_time": "2020-10-30T18:27:21.977168",
     "status": "completed"
    },
    "tags": []
   },
   "outputs": [],
   "source": [
    "# merge lecture features to train dataset\n",
    "train_lectures = train[train.content_type_id == True].merge(lectures_df, left_on='content_id', right_on='lecture_id', how='left')"
   ]
  },
  {
   "cell_type": "code",
   "execution_count": 8,
   "metadata": {
    "execution": {
     "iopub.execute_input": "2020-10-30T18:27:22.923937Z",
     "iopub.status.busy": "2020-10-30T18:27:22.916482Z",
     "iopub.status.idle": "2020-10-30T18:27:22.937122Z",
     "shell.execute_reply": "2020-10-30T18:27:22.937641Z"
    },
    "papermill": {
     "duration": 0.079568,
     "end_time": "2020-10-30T18:27:22.937772",
     "exception": false,
     "start_time": "2020-10-30T18:27:22.858204",
     "status": "completed"
    },
    "tags": []
   },
   "outputs": [
    {
     "data": {
      "text/html": [
       "<div>\n",
       "<style scoped>\n",
       "    .dataframe tbody tr th:only-of-type {\n",
       "        vertical-align: middle;\n",
       "    }\n",
       "\n",
       "    .dataframe tbody tr th {\n",
       "        vertical-align: top;\n",
       "    }\n",
       "\n",
       "    .dataframe thead th {\n",
       "        text-align: right;\n",
       "    }\n",
       "</style>\n",
       "<table border=\"1\" class=\"dataframe\">\n",
       "  <thead>\n",
       "    <tr style=\"text-align: right;\">\n",
       "      <th></th>\n",
       "      <th>timestamp</th>\n",
       "      <th>user_id</th>\n",
       "      <th>content_id</th>\n",
       "      <th>content_type_id</th>\n",
       "      <th>task_container_id</th>\n",
       "      <th>answered_correctly</th>\n",
       "      <th>prior_question_elapsed_time</th>\n",
       "      <th>prior_question_had_explanation</th>\n",
       "      <th>lecture_id</th>\n",
       "      <th>tag</th>\n",
       "      <th>...</th>\n",
       "      <th>part_2</th>\n",
       "      <th>part_3</th>\n",
       "      <th>part_4</th>\n",
       "      <th>part_5</th>\n",
       "      <th>part_6</th>\n",
       "      <th>part_7</th>\n",
       "      <th>type_of_concept</th>\n",
       "      <th>type_of_intention</th>\n",
       "      <th>type_of_solving_question</th>\n",
       "      <th>type_of_starter</th>\n",
       "    </tr>\n",
       "  </thead>\n",
       "  <tbody>\n",
       "    <tr>\n",
       "      <th>0</th>\n",
       "      <td>653762</td>\n",
       "      <td>2746</td>\n",
       "      <td>6808</td>\n",
       "      <td>1</td>\n",
       "      <td>14</td>\n",
       "      <td>-1</td>\n",
       "      <td>NaN</td>\n",
       "      <td>False</td>\n",
       "      <td>6808</td>\n",
       "      <td>129</td>\n",
       "      <td>...</td>\n",
       "      <td>1</td>\n",
       "      <td>0</td>\n",
       "      <td>0</td>\n",
       "      <td>0</td>\n",
       "      <td>0</td>\n",
       "      <td>0</td>\n",
       "      <td>0</td>\n",
       "      <td>1</td>\n",
       "      <td>0</td>\n",
       "      <td>0</td>\n",
       "    </tr>\n",
       "    <tr>\n",
       "      <th>1</th>\n",
       "      <td>10183847</td>\n",
       "      <td>5382</td>\n",
       "      <td>16736</td>\n",
       "      <td>1</td>\n",
       "      <td>21</td>\n",
       "      <td>-1</td>\n",
       "      <td>NaN</td>\n",
       "      <td>False</td>\n",
       "      <td>16736</td>\n",
       "      <td>40</td>\n",
       "      <td>...</td>\n",
       "      <td>0</td>\n",
       "      <td>0</td>\n",
       "      <td>0</td>\n",
       "      <td>0</td>\n",
       "      <td>0</td>\n",
       "      <td>0</td>\n",
       "      <td>1</td>\n",
       "      <td>0</td>\n",
       "      <td>0</td>\n",
       "      <td>0</td>\n",
       "    </tr>\n",
       "    <tr>\n",
       "      <th>2</th>\n",
       "      <td>1424348597</td>\n",
       "      <td>5382</td>\n",
       "      <td>30207</td>\n",
       "      <td>1</td>\n",
       "      <td>104</td>\n",
       "      <td>-1</td>\n",
       "      <td>NaN</td>\n",
       "      <td>False</td>\n",
       "      <td>30207</td>\n",
       "      <td>43</td>\n",
       "      <td>...</td>\n",
       "      <td>0</td>\n",
       "      <td>0</td>\n",
       "      <td>0</td>\n",
       "      <td>1</td>\n",
       "      <td>0</td>\n",
       "      <td>0</td>\n",
       "      <td>1</td>\n",
       "      <td>0</td>\n",
       "      <td>0</td>\n",
       "      <td>0</td>\n",
       "    </tr>\n",
       "    <tr>\n",
       "      <th>3</th>\n",
       "      <td>1425557777</td>\n",
       "      <td>5382</td>\n",
       "      <td>18545</td>\n",
       "      <td>1</td>\n",
       "      <td>121</td>\n",
       "      <td>-1</td>\n",
       "      <td>NaN</td>\n",
       "      <td>False</td>\n",
       "      <td>18545</td>\n",
       "      <td>58</td>\n",
       "      <td>...</td>\n",
       "      <td>0</td>\n",
       "      <td>0</td>\n",
       "      <td>0</td>\n",
       "      <td>1</td>\n",
       "      <td>0</td>\n",
       "      <td>0</td>\n",
       "      <td>1</td>\n",
       "      <td>0</td>\n",
       "      <td>0</td>\n",
       "      <td>0</td>\n",
       "    </tr>\n",
       "    <tr>\n",
       "      <th>4</th>\n",
       "      <td>405813029</td>\n",
       "      <td>8623</td>\n",
       "      <td>10540</td>\n",
       "      <td>1</td>\n",
       "      <td>59</td>\n",
       "      <td>-1</td>\n",
       "      <td>NaN</td>\n",
       "      <td>False</td>\n",
       "      <td>10540</td>\n",
       "      <td>99</td>\n",
       "      <td>...</td>\n",
       "      <td>0</td>\n",
       "      <td>0</td>\n",
       "      <td>0</td>\n",
       "      <td>0</td>\n",
       "      <td>0</td>\n",
       "      <td>0</td>\n",
       "      <td>1</td>\n",
       "      <td>0</td>\n",
       "      <td>0</td>\n",
       "      <td>0</td>\n",
       "    </tr>\n",
       "  </tbody>\n",
       "</table>\n",
       "<p>5 rows × 21 columns</p>\n",
       "</div>"
      ],
      "text/plain": [
       "    timestamp  user_id  content_id  content_type_id  task_container_id  \\\n",
       "0      653762     2746        6808                1                 14   \n",
       "1    10183847     5382       16736                1                 21   \n",
       "2  1424348597     5382       30207                1                104   \n",
       "3  1425557777     5382       18545                1                121   \n",
       "4   405813029     8623       10540                1                 59   \n",
       "\n",
       "   answered_correctly  prior_question_elapsed_time  \\\n",
       "0                  -1                          NaN   \n",
       "1                  -1                          NaN   \n",
       "2                  -1                          NaN   \n",
       "3                  -1                          NaN   \n",
       "4                  -1                          NaN   \n",
       "\n",
       "   prior_question_had_explanation  lecture_id  tag  ...  part_2  part_3  \\\n",
       "0                           False        6808  129  ...       1       0   \n",
       "1                           False       16736   40  ...       0       0   \n",
       "2                           False       30207   43  ...       0       0   \n",
       "3                           False       18545   58  ...       0       0   \n",
       "4                           False       10540   99  ...       0       0   \n",
       "\n",
       "   part_4  part_5  part_6  part_7  type_of_concept  type_of_intention  \\\n",
       "0       0       0       0       0                0                  1   \n",
       "1       0       0       0       0                1                  0   \n",
       "2       0       1       0       0                1                  0   \n",
       "3       0       1       0       0                1                  0   \n",
       "4       0       0       0       0                1                  0   \n",
       "\n",
       "   type_of_solving_question  type_of_starter  \n",
       "0                         0                0  \n",
       "1                         0                0  \n",
       "2                         0                0  \n",
       "3                         0                0  \n",
       "4                         0                0  \n",
       "\n",
       "[5 rows x 21 columns]"
      ]
     },
     "execution_count": 8,
     "metadata": {},
     "output_type": "execute_result"
    }
   ],
   "source": [
    "train_lectures.head()"
   ]
  },
  {
   "cell_type": "code",
   "execution_count": 9,
   "metadata": {
    "execution": {
     "iopub.execute_input": "2020-10-30T18:27:23.048957Z",
     "iopub.status.busy": "2020-10-30T18:27:23.047620Z",
     "iopub.status.idle": "2020-10-30T18:27:23.252629Z",
     "shell.execute_reply": "2020-10-30T18:27:23.253147Z"
    },
    "papermill": {
     "duration": 0.262435,
     "end_time": "2020-10-30T18:27:23.253304",
     "exception": false,
     "start_time": "2020-10-30T18:27:22.990869",
     "status": "completed"
    },
    "tags": []
   },
   "outputs": [],
   "source": [
    "# collect per user stats\n",
    "user_lecture_stats_part = train_lectures.groupby('user_id')[part_lectures_columns + types_of_lectures_columns].sum()"
   ]
  },
  {
   "cell_type": "code",
   "execution_count": 10,
   "metadata": {
    "execution": {
     "iopub.execute_input": "2020-10-30T18:27:23.366949Z",
     "iopub.status.busy": "2020-10-30T18:27:23.366036Z",
     "iopub.status.idle": "2020-10-30T18:27:23.369501Z",
     "shell.execute_reply": "2020-10-30T18:27:23.370068Z"
    },
    "papermill": {
     "duration": 0.065649,
     "end_time": "2020-10-30T18:27:23.370185",
     "exception": false,
     "start_time": "2020-10-30T18:27:23.304536",
     "status": "completed"
    },
    "tags": []
   },
   "outputs": [
    {
     "data": {
      "text/html": [
       "<div>\n",
       "<style scoped>\n",
       "    .dataframe tbody tr th:only-of-type {\n",
       "        vertical-align: middle;\n",
       "    }\n",
       "\n",
       "    .dataframe tbody tr th {\n",
       "        vertical-align: top;\n",
       "    }\n",
       "\n",
       "    .dataframe thead th {\n",
       "        text-align: right;\n",
       "    }\n",
       "</style>\n",
       "<table border=\"1\" class=\"dataframe\">\n",
       "  <thead>\n",
       "    <tr style=\"text-align: right;\">\n",
       "      <th></th>\n",
       "      <th>part_1</th>\n",
       "      <th>part_2</th>\n",
       "      <th>part_3</th>\n",
       "      <th>part_4</th>\n",
       "      <th>part_5</th>\n",
       "      <th>part_6</th>\n",
       "      <th>part_7</th>\n",
       "      <th>type_of_concept</th>\n",
       "      <th>type_of_intention</th>\n",
       "      <th>type_of_solving_question</th>\n",
       "      <th>type_of_starter</th>\n",
       "    </tr>\n",
       "    <tr>\n",
       "      <th>user_id</th>\n",
       "      <th></th>\n",
       "      <th></th>\n",
       "      <th></th>\n",
       "      <th></th>\n",
       "      <th></th>\n",
       "      <th></th>\n",
       "      <th></th>\n",
       "      <th></th>\n",
       "      <th></th>\n",
       "      <th></th>\n",
       "      <th></th>\n",
       "    </tr>\n",
       "  </thead>\n",
       "  <tbody>\n",
       "    <tr>\n",
       "      <th>2746</th>\n",
       "      <td>0</td>\n",
       "      <td>1</td>\n",
       "      <td>0</td>\n",
       "      <td>0</td>\n",
       "      <td>0</td>\n",
       "      <td>0</td>\n",
       "      <td>0</td>\n",
       "      <td>0</td>\n",
       "      <td>1</td>\n",
       "      <td>0</td>\n",
       "      <td>0</td>\n",
       "    </tr>\n",
       "    <tr>\n",
       "      <th>5382</th>\n",
       "      <td>1</td>\n",
       "      <td>0</td>\n",
       "      <td>0</td>\n",
       "      <td>0</td>\n",
       "      <td>2</td>\n",
       "      <td>0</td>\n",
       "      <td>0</td>\n",
       "      <td>3</td>\n",
       "      <td>0</td>\n",
       "      <td>0</td>\n",
       "      <td>0</td>\n",
       "    </tr>\n",
       "    <tr>\n",
       "      <th>8623</th>\n",
       "      <td>2</td>\n",
       "      <td>1</td>\n",
       "      <td>0</td>\n",
       "      <td>0</td>\n",
       "      <td>0</td>\n",
       "      <td>0</td>\n",
       "      <td>0</td>\n",
       "      <td>3</td>\n",
       "      <td>0</td>\n",
       "      <td>0</td>\n",
       "      <td>0</td>\n",
       "    </tr>\n",
       "    <tr>\n",
       "      <th>12741</th>\n",
       "      <td>0</td>\n",
       "      <td>0</td>\n",
       "      <td>0</td>\n",
       "      <td>3</td>\n",
       "      <td>0</td>\n",
       "      <td>1</td>\n",
       "      <td>2</td>\n",
       "      <td>4</td>\n",
       "      <td>0</td>\n",
       "      <td>2</td>\n",
       "      <td>0</td>\n",
       "    </tr>\n",
       "    <tr>\n",
       "      <th>13134</th>\n",
       "      <td>1</td>\n",
       "      <td>3</td>\n",
       "      <td>0</td>\n",
       "      <td>0</td>\n",
       "      <td>3</td>\n",
       "      <td>0</td>\n",
       "      <td>0</td>\n",
       "      <td>6</td>\n",
       "      <td>1</td>\n",
       "      <td>0</td>\n",
       "      <td>0</td>\n",
       "    </tr>\n",
       "  </tbody>\n",
       "</table>\n",
       "</div>"
      ],
      "text/plain": [
       "         part_1  part_2  part_3  part_4  part_5  part_6  part_7  \\\n",
       "user_id                                                           \n",
       "2746          0       1       0       0       0       0       0   \n",
       "5382          1       0       0       0       2       0       0   \n",
       "8623          2       1       0       0       0       0       0   \n",
       "12741         0       0       0       3       0       1       2   \n",
       "13134         1       3       0       0       3       0       0   \n",
       "\n",
       "         type_of_concept  type_of_intention  type_of_solving_question  \\\n",
       "user_id                                                                 \n",
       "2746                   0                  1                         0   \n",
       "5382                   3                  0                         0   \n",
       "8623                   3                  0                         0   \n",
       "12741                  4                  0                         2   \n",
       "13134                  6                  1                         0   \n",
       "\n",
       "         type_of_starter  \n",
       "user_id                   \n",
       "2746                   0  \n",
       "5382                   0  \n",
       "8623                   0  \n",
       "12741                  0  \n",
       "13134                  0  "
      ]
     },
     "execution_count": 10,
     "metadata": {},
     "output_type": "execute_result"
    }
   ],
   "source": [
    "user_lecture_stats_part.head()"
   ]
  },
  {
   "cell_type": "code",
   "execution_count": 11,
   "metadata": {
    "execution": {
     "iopub.execute_input": "2020-10-30T18:27:23.479053Z",
     "iopub.status.busy": "2020-10-30T18:27:23.478374Z",
     "iopub.status.idle": "2020-10-30T18:27:23.494734Z",
     "shell.execute_reply": "2020-10-30T18:27:23.494255Z"
    },
    "papermill": {
     "duration": 0.073265,
     "end_time": "2020-10-30T18:27:23.494840",
     "exception": false,
     "start_time": "2020-10-30T18:27:23.421575",
     "status": "completed"
    },
    "tags": []
   },
   "outputs": [],
   "source": [
    "# add boolean features\n",
    "for column in user_lecture_stats_part.columns:\n",
    "    bool_column = column + '_boolean'\n",
    "    user_lecture_stats_part[bool_column] = (user_lecture_stats_part[column] > 0).astype(int)"
   ]
  },
  {
   "cell_type": "code",
   "execution_count": 12,
   "metadata": {
    "execution": {
     "iopub.execute_input": "2020-10-30T18:27:23.616212Z",
     "iopub.status.busy": "2020-10-30T18:27:23.615317Z",
     "iopub.status.idle": "2020-10-30T18:27:23.619424Z",
     "shell.execute_reply": "2020-10-30T18:27:23.618956Z"
    },
    "papermill": {
     "duration": 0.074029,
     "end_time": "2020-10-30T18:27:23.619515",
     "exception": false,
     "start_time": "2020-10-30T18:27:23.545486",
     "status": "completed"
    },
    "tags": []
   },
   "outputs": [
    {
     "data": {
      "text/html": [
       "<div>\n",
       "<style scoped>\n",
       "    .dataframe tbody tr th:only-of-type {\n",
       "        vertical-align: middle;\n",
       "    }\n",
       "\n",
       "    .dataframe tbody tr th {\n",
       "        vertical-align: top;\n",
       "    }\n",
       "\n",
       "    .dataframe thead th {\n",
       "        text-align: right;\n",
       "    }\n",
       "</style>\n",
       "<table border=\"1\" class=\"dataframe\">\n",
       "  <thead>\n",
       "    <tr style=\"text-align: right;\">\n",
       "      <th></th>\n",
       "      <th>part_1</th>\n",
       "      <th>part_2</th>\n",
       "      <th>part_3</th>\n",
       "      <th>part_4</th>\n",
       "      <th>part_5</th>\n",
       "      <th>part_6</th>\n",
       "      <th>part_7</th>\n",
       "      <th>type_of_concept</th>\n",
       "      <th>type_of_intention</th>\n",
       "      <th>type_of_solving_question</th>\n",
       "      <th>...</th>\n",
       "      <th>part_2_boolean</th>\n",
       "      <th>part_3_boolean</th>\n",
       "      <th>part_4_boolean</th>\n",
       "      <th>part_5_boolean</th>\n",
       "      <th>part_6_boolean</th>\n",
       "      <th>part_7_boolean</th>\n",
       "      <th>type_of_concept_boolean</th>\n",
       "      <th>type_of_intention_boolean</th>\n",
       "      <th>type_of_solving_question_boolean</th>\n",
       "      <th>type_of_starter_boolean</th>\n",
       "    </tr>\n",
       "    <tr>\n",
       "      <th>user_id</th>\n",
       "      <th></th>\n",
       "      <th></th>\n",
       "      <th></th>\n",
       "      <th></th>\n",
       "      <th></th>\n",
       "      <th></th>\n",
       "      <th></th>\n",
       "      <th></th>\n",
       "      <th></th>\n",
       "      <th></th>\n",
       "      <th></th>\n",
       "      <th></th>\n",
       "      <th></th>\n",
       "      <th></th>\n",
       "      <th></th>\n",
       "      <th></th>\n",
       "      <th></th>\n",
       "      <th></th>\n",
       "      <th></th>\n",
       "      <th></th>\n",
       "      <th></th>\n",
       "    </tr>\n",
       "  </thead>\n",
       "  <tbody>\n",
       "    <tr>\n",
       "      <th>2746</th>\n",
       "      <td>0</td>\n",
       "      <td>1</td>\n",
       "      <td>0</td>\n",
       "      <td>0</td>\n",
       "      <td>0</td>\n",
       "      <td>0</td>\n",
       "      <td>0</td>\n",
       "      <td>0</td>\n",
       "      <td>1</td>\n",
       "      <td>0</td>\n",
       "      <td>...</td>\n",
       "      <td>1</td>\n",
       "      <td>0</td>\n",
       "      <td>0</td>\n",
       "      <td>0</td>\n",
       "      <td>0</td>\n",
       "      <td>0</td>\n",
       "      <td>0</td>\n",
       "      <td>1</td>\n",
       "      <td>0</td>\n",
       "      <td>0</td>\n",
       "    </tr>\n",
       "    <tr>\n",
       "      <th>5382</th>\n",
       "      <td>1</td>\n",
       "      <td>0</td>\n",
       "      <td>0</td>\n",
       "      <td>0</td>\n",
       "      <td>2</td>\n",
       "      <td>0</td>\n",
       "      <td>0</td>\n",
       "      <td>3</td>\n",
       "      <td>0</td>\n",
       "      <td>0</td>\n",
       "      <td>...</td>\n",
       "      <td>0</td>\n",
       "      <td>0</td>\n",
       "      <td>0</td>\n",
       "      <td>1</td>\n",
       "      <td>0</td>\n",
       "      <td>0</td>\n",
       "      <td>1</td>\n",
       "      <td>0</td>\n",
       "      <td>0</td>\n",
       "      <td>0</td>\n",
       "    </tr>\n",
       "    <tr>\n",
       "      <th>8623</th>\n",
       "      <td>2</td>\n",
       "      <td>1</td>\n",
       "      <td>0</td>\n",
       "      <td>0</td>\n",
       "      <td>0</td>\n",
       "      <td>0</td>\n",
       "      <td>0</td>\n",
       "      <td>3</td>\n",
       "      <td>0</td>\n",
       "      <td>0</td>\n",
       "      <td>...</td>\n",
       "      <td>1</td>\n",
       "      <td>0</td>\n",
       "      <td>0</td>\n",
       "      <td>0</td>\n",
       "      <td>0</td>\n",
       "      <td>0</td>\n",
       "      <td>1</td>\n",
       "      <td>0</td>\n",
       "      <td>0</td>\n",
       "      <td>0</td>\n",
       "    </tr>\n",
       "    <tr>\n",
       "      <th>12741</th>\n",
       "      <td>0</td>\n",
       "      <td>0</td>\n",
       "      <td>0</td>\n",
       "      <td>3</td>\n",
       "      <td>0</td>\n",
       "      <td>1</td>\n",
       "      <td>2</td>\n",
       "      <td>4</td>\n",
       "      <td>0</td>\n",
       "      <td>2</td>\n",
       "      <td>...</td>\n",
       "      <td>0</td>\n",
       "      <td>0</td>\n",
       "      <td>1</td>\n",
       "      <td>0</td>\n",
       "      <td>1</td>\n",
       "      <td>1</td>\n",
       "      <td>1</td>\n",
       "      <td>0</td>\n",
       "      <td>1</td>\n",
       "      <td>0</td>\n",
       "    </tr>\n",
       "    <tr>\n",
       "      <th>13134</th>\n",
       "      <td>1</td>\n",
       "      <td>3</td>\n",
       "      <td>0</td>\n",
       "      <td>0</td>\n",
       "      <td>3</td>\n",
       "      <td>0</td>\n",
       "      <td>0</td>\n",
       "      <td>6</td>\n",
       "      <td>1</td>\n",
       "      <td>0</td>\n",
       "      <td>...</td>\n",
       "      <td>1</td>\n",
       "      <td>0</td>\n",
       "      <td>0</td>\n",
       "      <td>1</td>\n",
       "      <td>0</td>\n",
       "      <td>0</td>\n",
       "      <td>1</td>\n",
       "      <td>1</td>\n",
       "      <td>0</td>\n",
       "      <td>0</td>\n",
       "    </tr>\n",
       "  </tbody>\n",
       "</table>\n",
       "<p>5 rows × 22 columns</p>\n",
       "</div>"
      ],
      "text/plain": [
       "         part_1  part_2  part_3  part_4  part_5  part_6  part_7  \\\n",
       "user_id                                                           \n",
       "2746          0       1       0       0       0       0       0   \n",
       "5382          1       0       0       0       2       0       0   \n",
       "8623          2       1       0       0       0       0       0   \n",
       "12741         0       0       0       3       0       1       2   \n",
       "13134         1       3       0       0       3       0       0   \n",
       "\n",
       "         type_of_concept  type_of_intention  type_of_solving_question  ...  \\\n",
       "user_id                                                                ...   \n",
       "2746                   0                  1                         0  ...   \n",
       "5382                   3                  0                         0  ...   \n",
       "8623                   3                  0                         0  ...   \n",
       "12741                  4                  0                         2  ...   \n",
       "13134                  6                  1                         0  ...   \n",
       "\n",
       "         part_2_boolean  part_3_boolean  part_4_boolean  part_5_boolean  \\\n",
       "user_id                                                                   \n",
       "2746                  1               0               0               0   \n",
       "5382                  0               0               0               1   \n",
       "8623                  1               0               0               0   \n",
       "12741                 0               0               1               0   \n",
       "13134                 1               0               0               1   \n",
       "\n",
       "         part_6_boolean  part_7_boolean  type_of_concept_boolean  \\\n",
       "user_id                                                            \n",
       "2746                  0               0                        0   \n",
       "5382                  0               0                        1   \n",
       "8623                  0               0                        1   \n",
       "12741                 1               1                        1   \n",
       "13134                 0               0                        1   \n",
       "\n",
       "         type_of_intention_boolean  type_of_solving_question_boolean  \\\n",
       "user_id                                                                \n",
       "2746                             1                                 0   \n",
       "5382                             0                                 0   \n",
       "8623                             0                                 0   \n",
       "12741                            0                                 1   \n",
       "13134                            1                                 0   \n",
       "\n",
       "         type_of_starter_boolean  \n",
       "user_id                           \n",
       "2746                           0  \n",
       "5382                           0  \n",
       "8623                           0  \n",
       "12741                          0  \n",
       "13134                          0  \n",
       "\n",
       "[5 rows x 22 columns]"
      ]
     },
     "execution_count": 12,
     "metadata": {},
     "output_type": "execute_result"
    }
   ],
   "source": [
    "user_lecture_stats_part.head()"
   ]
  },
  {
   "cell_type": "code",
   "execution_count": 13,
   "metadata": {
    "execution": {
     "iopub.execute_input": "2020-10-30T18:27:23.726508Z",
     "iopub.status.busy": "2020-10-30T18:27:23.725789Z",
     "iopub.status.idle": "2020-10-30T18:27:23.728746Z",
     "shell.execute_reply": "2020-10-30T18:27:23.728153Z"
    },
    "papermill": {
     "duration": 0.05761,
     "end_time": "2020-10-30T18:27:23.728836",
     "exception": false,
     "start_time": "2020-10-30T18:27:23.671226",
     "status": "completed"
    },
    "tags": []
   },
   "outputs": [],
   "source": [
    "#clearing memory\n",
    "del(train_lectures)"
   ]
  },
  {
   "cell_type": "markdown",
   "metadata": {
    "papermill": {
     "duration": 0.050874,
     "end_time": "2020-10-30T18:27:23.830884",
     "exception": false,
     "start_time": "2020-10-30T18:27:23.780010",
     "status": "completed"
    },
    "tags": []
   },
   "source": [
    "Affirmatives (True) for content_type_id are only for those with a different type of content (lectures). These are not real questions."
   ]
  },
  {
   "cell_type": "code",
   "execution_count": 14,
   "metadata": {
    "execution": {
     "iopub.execute_input": "2020-10-30T18:27:23.939848Z",
     "iopub.status.busy": "2020-10-30T18:27:23.938445Z",
     "iopub.status.idle": "2020-10-30T18:27:55.197963Z",
     "shell.execute_reply": "2020-10-30T18:27:55.197203Z"
    },
    "papermill": {
     "duration": 31.315981,
     "end_time": "2020-10-30T18:27:55.198084",
     "exception": false,
     "start_time": "2020-10-30T18:27:23.882103",
     "status": "completed"
    },
    "tags": []
   },
   "outputs": [],
   "source": [
    "#removing True or 1 for content_type_id\n",
    "\n",
    "train = train[train.content_type_id == False].sort_values('timestamp').reset_index(drop = True)"
   ]
  },
  {
   "cell_type": "code",
   "execution_count": 15,
   "metadata": {
    "execution": {
     "iopub.execute_input": "2020-10-30T18:27:55.310014Z",
     "iopub.status.busy": "2020-10-30T18:27:55.309114Z",
     "iopub.status.idle": "2020-10-30T18:27:55.506288Z",
     "shell.execute_reply": "2020-10-30T18:27:55.506827Z"
    },
    "papermill": {
     "duration": 0.255707,
     "end_time": "2020-10-30T18:27:55.506963",
     "exception": false,
     "start_time": "2020-10-30T18:27:55.251256",
     "status": "completed"
    },
    "tags": []
   },
   "outputs": [
    {
     "data": {
      "text/html": [
       "<div>\n",
       "<style scoped>\n",
       "    .dataframe tbody tr th:only-of-type {\n",
       "        vertical-align: middle;\n",
       "    }\n",
       "\n",
       "    .dataframe tbody tr th {\n",
       "        vertical-align: top;\n",
       "    }\n",
       "\n",
       "    .dataframe thead th {\n",
       "        text-align: right;\n",
       "    }\n",
       "</style>\n",
       "<table border=\"1\" class=\"dataframe\">\n",
       "  <thead>\n",
       "    <tr style=\"text-align: right;\">\n",
       "      <th></th>\n",
       "      <th>timestamp</th>\n",
       "      <th>user_id</th>\n",
       "      <th>content_id</th>\n",
       "      <th>content_type_id</th>\n",
       "      <th>task_container_id</th>\n",
       "      <th>answered_correctly</th>\n",
       "      <th>prior_question_elapsed_time</th>\n",
       "      <th>prior_question_had_explanation</th>\n",
       "    </tr>\n",
       "  </thead>\n",
       "  <tbody>\n",
       "    <tr>\n",
       "      <th>98994042</th>\n",
       "      <td>65925681553</td>\n",
       "      <td>982752539</td>\n",
       "      <td>1066</td>\n",
       "      <td>0</td>\n",
       "      <td>9999</td>\n",
       "      <td>1</td>\n",
       "      <td>16000.0</td>\n",
       "      <td>True</td>\n",
       "    </tr>\n",
       "    <tr>\n",
       "      <th>99088950</th>\n",
       "      <td>68754812937</td>\n",
       "      <td>817562598</td>\n",
       "      <td>12306</td>\n",
       "      <td>0</td>\n",
       "      <td>9999</td>\n",
       "      <td>1</td>\n",
       "      <td>22333.0</td>\n",
       "      <td>True</td>\n",
       "    </tr>\n",
       "    <tr>\n",
       "      <th>99088951</th>\n",
       "      <td>68754812937</td>\n",
       "      <td>817562598</td>\n",
       "      <td>12308</td>\n",
       "      <td>0</td>\n",
       "      <td>9999</td>\n",
       "      <td>0</td>\n",
       "      <td>22333.0</td>\n",
       "      <td>True</td>\n",
       "    </tr>\n",
       "    <tr>\n",
       "      <th>99088952</th>\n",
       "      <td>68754812937</td>\n",
       "      <td>817562598</td>\n",
       "      <td>12307</td>\n",
       "      <td>0</td>\n",
       "      <td>9999</td>\n",
       "      <td>1</td>\n",
       "      <td>22333.0</td>\n",
       "      <td>True</td>\n",
       "    </tr>\n",
       "    <tr>\n",
       "      <th>99207455</th>\n",
       "      <td>73928187913</td>\n",
       "      <td>1071085357</td>\n",
       "      <td>1189</td>\n",
       "      <td>0</td>\n",
       "      <td>9999</td>\n",
       "      <td>1</td>\n",
       "      <td>27000.0</td>\n",
       "      <td>True</td>\n",
       "    </tr>\n",
       "  </tbody>\n",
       "</table>\n",
       "</div>"
      ],
      "text/plain": [
       "            timestamp     user_id  content_id  content_type_id  \\\n",
       "98994042  65925681553   982752539        1066                0   \n",
       "99088950  68754812937   817562598       12306                0   \n",
       "99088951  68754812937   817562598       12308                0   \n",
       "99088952  68754812937   817562598       12307                0   \n",
       "99207455  73928187913  1071085357        1189                0   \n",
       "\n",
       "          task_container_id  answered_correctly  prior_question_elapsed_time  \\\n",
       "98994042               9999                   1                      16000.0   \n",
       "99088950               9999                   1                      22333.0   \n",
       "99088951               9999                   0                      22333.0   \n",
       "99088952               9999                   1                      22333.0   \n",
       "99207455               9999                   1                      27000.0   \n",
       "\n",
       "          prior_question_had_explanation  \n",
       "98994042                            True  \n",
       "99088950                            True  \n",
       "99088951                            True  \n",
       "99088952                            True  \n",
       "99207455                            True  "
      ]
     },
     "execution_count": 15,
     "metadata": {},
     "output_type": "execute_result"
    }
   ],
   "source": [
    "train[(train.task_container_id == 9999)].tail()"
   ]
  },
  {
   "cell_type": "code",
   "execution_count": 16,
   "metadata": {
    "execution": {
     "iopub.execute_input": "2020-10-30T18:27:55.617942Z",
     "iopub.status.busy": "2020-10-30T18:27:55.616635Z",
     "iopub.status.idle": "2020-10-30T18:28:00.936587Z",
     "shell.execute_reply": "2020-10-30T18:28:00.935175Z"
    },
    "papermill": {
     "duration": 5.37707,
     "end_time": "2020-10-30T18:28:00.936721",
     "exception": false,
     "start_time": "2020-10-30T18:27:55.559651",
     "status": "completed"
    },
    "tags": []
   },
   "outputs": [
    {
     "data": {
      "text/plain": [
       "10000"
      ]
     },
     "execution_count": 16,
     "metadata": {},
     "output_type": "execute_result"
    }
   ],
   "source": [
    "train[(train.content_type_id == False)].task_container_id.nunique()"
   ]
  },
  {
   "cell_type": "code",
   "execution_count": 17,
   "metadata": {
    "execution": {
     "iopub.execute_input": "2020-10-30T18:28:01.051908Z",
     "iopub.status.busy": "2020-10-30T18:28:01.050971Z",
     "iopub.status.idle": "2020-10-30T18:28:01.190765Z",
     "shell.execute_reply": "2020-10-30T18:28:01.191327Z"
    },
    "papermill": {
     "duration": 0.199683,
     "end_time": "2020-10-30T18:28:01.191474",
     "exception": false,
     "start_time": "2020-10-30T18:28:00.991791",
     "status": "completed"
    },
    "tags": []
   },
   "outputs": [],
   "source": [
    "#saving value to fillna\n",
    "elapsed_mean = train.prior_question_elapsed_time.mean()\n"
   ]
  },
  {
   "cell_type": "code",
   "execution_count": 18,
   "metadata": {
    "execution": {
     "iopub.execute_input": "2020-10-30T18:28:01.307687Z",
     "iopub.status.busy": "2020-10-30T18:28:01.306297Z",
     "iopub.status.idle": "2020-10-30T18:29:16.726070Z",
     "shell.execute_reply": "2020-10-30T18:29:16.727176Z"
    },
    "papermill": {
     "duration": 75.482206,
     "end_time": "2020-10-30T18:29:16.727348",
     "exception": false,
     "start_time": "2020-10-30T18:28:01.245142",
     "status": "completed"
    },
    "tags": []
   },
   "outputs": [],
   "source": [
    "group1 = train.loc[(train.content_type_id == False), ['task_container_id', 'user_id']].groupby(['task_container_id']).agg(['count'])\n",
    "group1.columns = ['avg_questions']\n",
    "group2 = train.loc[(train.content_type_id == False), ['task_container_id', 'user_id']].groupby(['task_container_id']).agg(['nunique'])\n",
    "group2.columns = ['avg_questions']\n",
    "group3 = group1 / group2"
   ]
  },
  {
   "cell_type": "code",
   "execution_count": 19,
   "metadata": {
    "execution": {
     "iopub.execute_input": "2020-10-30T18:29:16.867879Z",
     "iopub.status.busy": "2020-10-30T18:29:16.867152Z",
     "iopub.status.idle": "2020-10-30T18:29:16.870461Z",
     "shell.execute_reply": "2020-10-30T18:29:16.871000Z"
    },
    "papermill": {
     "duration": 0.067807,
     "end_time": "2020-10-30T18:29:16.871165",
     "exception": false,
     "start_time": "2020-10-30T18:29:16.803358",
     "status": "completed"
    },
    "tags": []
   },
   "outputs": [],
   "source": [
    "group3['avg_questions_seen'] = group3.avg_questions.cumsum()"
   ]
  },
  {
   "cell_type": "code",
   "execution_count": 20,
   "metadata": {
    "execution": {
     "iopub.execute_input": "2020-10-30T18:29:17.037469Z",
     "iopub.status.busy": "2020-10-30T18:29:17.036641Z",
     "iopub.status.idle": "2020-10-30T18:29:17.040000Z",
     "shell.execute_reply": "2020-10-30T18:29:17.038177Z"
    },
    "papermill": {
     "duration": 0.09889,
     "end_time": "2020-10-30T18:29:17.040119",
     "exception": false,
     "start_time": "2020-10-30T18:29:16.941229",
     "status": "completed"
    },
    "tags": []
   },
   "outputs": [
    {
     "data": {
      "text/plain": [
       "1.006648868548182"
      ]
     },
     "execution_count": 20,
     "metadata": {},
     "output_type": "execute_result"
    }
   ],
   "source": [
    "group3.iloc[0].avg_questions_seen"
   ]
  },
  {
   "cell_type": "code",
   "execution_count": 21,
   "metadata": {
    "execution": {
     "iopub.execute_input": "2020-10-30T18:29:17.203134Z",
     "iopub.status.busy": "2020-10-30T18:29:17.201734Z",
     "iopub.status.idle": "2020-10-30T18:29:51.887310Z",
     "shell.execute_reply": "2020-10-30T18:29:51.888628Z"
    },
    "papermill": {
     "duration": 34.77285,
     "end_time": "2020-10-30T18:29:51.888845",
     "exception": false,
     "start_time": "2020-10-30T18:29:17.115995",
     "status": "completed"
    },
    "tags": []
   },
   "outputs": [],
   "source": [
    "results_u_final = train.loc[train.content_type_id == False, ['user_id','answered_correctly']].groupby(['user_id']).agg(['mean'])\n",
    "results_u_final.columns = ['answered_correctly_user']\n",
    "\n",
    "results_u2_final = train.loc[train.content_type_id == False, ['user_id','prior_question_had_explanation']].groupby(['user_id']).agg(['mean'])\n",
    "results_u2_final.columns = ['explanation_mean_user']"
   ]
  },
  {
   "cell_type": "code",
   "execution_count": 22,
   "metadata": {
    "execution": {
     "iopub.execute_input": "2020-10-30T18:29:52.067887Z",
     "iopub.status.busy": "2020-10-30T18:29:52.066938Z",
     "iopub.status.idle": "2020-10-30T18:29:52.088310Z",
     "shell.execute_reply": "2020-10-30T18:29:52.087282Z"
    },
    "papermill": {
     "duration": 0.117058,
     "end_time": "2020-10-30T18:29:52.088413",
     "exception": false,
     "start_time": "2020-10-30T18:29:51.971355",
     "status": "completed"
    },
    "tags": []
   },
   "outputs": [
    {
     "data": {
      "text/plain": [
       "count    393569.000000\n",
       "mean          0.566426\n",
       "std           0.360063\n",
       "min           0.000000\n",
       "25%           0.230769\n",
       "50%           0.655172\n",
       "75%           0.904110\n",
       "max           1.000000\n",
       "Name: explanation_mean_user, dtype: float64"
      ]
     },
     "execution_count": 22,
     "metadata": {},
     "output_type": "execute_result"
    }
   ],
   "source": [
    "results_u2_final.explanation_mean_user.describe()"
   ]
  },
  {
   "cell_type": "code",
   "execution_count": 23,
   "metadata": {
    "execution": {
     "iopub.execute_input": "2020-10-30T18:29:52.204753Z",
     "iopub.status.busy": "2020-10-30T18:29:52.203500Z",
     "iopub.status.idle": "2020-10-30T18:30:10.373875Z",
     "shell.execute_reply": "2020-10-30T18:30:10.373166Z"
    },
    "papermill": {
     "duration": 18.230328,
     "end_time": "2020-10-30T18:30:10.373990",
     "exception": false,
     "start_time": "2020-10-30T18:29:52.143662",
     "status": "completed"
    },
    "tags": []
   },
   "outputs": [],
   "source": [
    "train = pd.merge(train, questions_df, left_on = 'content_id', right_on = 'question_id', how = 'left')"
   ]
  },
  {
   "cell_type": "code",
   "execution_count": 24,
   "metadata": {
    "execution": {
     "iopub.execute_input": "2020-10-30T18:30:10.491527Z",
     "iopub.status.busy": "2020-10-30T18:30:10.490216Z",
     "iopub.status.idle": "2020-10-30T18:30:27.907680Z",
     "shell.execute_reply": "2020-10-30T18:30:27.906119Z"
    },
    "papermill": {
     "duration": 17.478391,
     "end_time": "2020-10-30T18:30:27.907861",
     "exception": false,
     "start_time": "2020-10-30T18:30:10.429470",
     "status": "completed"
    },
    "tags": []
   },
   "outputs": [],
   "source": [
    "results_q_final = train.loc[train.content_type_id == False, ['question_id','answered_correctly']].groupby(['question_id']).agg(['mean'])\n",
    "results_q_final.columns = ['quest_pct']"
   ]
  },
  {
   "cell_type": "code",
   "execution_count": 25,
   "metadata": {
    "execution": {
     "iopub.execute_input": "2020-10-30T18:30:28.032957Z",
     "iopub.status.busy": "2020-10-30T18:30:28.031519Z",
     "iopub.status.idle": "2020-10-30T18:30:43.757308Z",
     "shell.execute_reply": "2020-10-30T18:30:43.756124Z"
    },
    "papermill": {
     "duration": 15.787128,
     "end_time": "2020-10-30T18:30:43.757431",
     "exception": false,
     "start_time": "2020-10-30T18:30:27.970303",
     "status": "completed"
    },
    "tags": []
   },
   "outputs": [],
   "source": [
    "results_q2_final = train.loc[train.content_type_id == False, ['question_id','part']].groupby(['question_id']).agg(['count'])\n",
    "results_q2_final.columns = ['count']"
   ]
  },
  {
   "cell_type": "code",
   "execution_count": 26,
   "metadata": {
    "execution": {
     "iopub.execute_input": "2020-10-30T18:30:43.912574Z",
     "iopub.status.busy": "2020-10-30T18:30:43.911695Z",
     "iopub.status.idle": "2020-10-30T18:30:43.918804Z",
     "shell.execute_reply": "2020-10-30T18:30:43.920541Z"
    },
    "papermill": {
     "duration": 0.104144,
     "end_time": "2020-10-30T18:30:43.920829",
     "exception": false,
     "start_time": "2020-10-30T18:30:43.816685",
     "status": "completed"
    },
    "tags": []
   },
   "outputs": [],
   "source": [
    "question2 = pd.merge(questions_df, results_q_final, left_on = 'question_id', right_on = 'question_id', how = 'left')"
   ]
  },
  {
   "cell_type": "code",
   "execution_count": 27,
   "metadata": {
    "execution": {
     "iopub.execute_input": "2020-10-30T18:30:44.119727Z",
     "iopub.status.busy": "2020-10-30T18:30:44.118812Z",
     "iopub.status.idle": "2020-10-30T18:30:44.130537Z",
     "shell.execute_reply": "2020-10-30T18:30:44.131277Z"
    },
    "papermill": {
     "duration": 0.103089,
     "end_time": "2020-10-30T18:30:44.131450",
     "exception": false,
     "start_time": "2020-10-30T18:30:44.028361",
     "status": "completed"
    },
    "tags": []
   },
   "outputs": [],
   "source": [
    "question2 = pd.merge(question2, results_q2_final, left_on = 'question_id', right_on = 'question_id', how = 'left')"
   ]
  },
  {
   "cell_type": "code",
   "execution_count": 28,
   "metadata": {
    "execution": {
     "iopub.execute_input": "2020-10-30T18:30:44.312814Z",
     "iopub.status.busy": "2020-10-30T18:30:44.311923Z",
     "iopub.status.idle": "2020-10-30T18:30:44.315527Z",
     "shell.execute_reply": "2020-10-30T18:30:44.316195Z"
    },
    "papermill": {
     "duration": 0.094251,
     "end_time": "2020-10-30T18:30:44.316358",
     "exception": false,
     "start_time": "2020-10-30T18:30:44.222107",
     "status": "completed"
    },
    "tags": []
   },
   "outputs": [],
   "source": [
    "question2.quest_pct = round(question2.quest_pct,5)"
   ]
  },
  {
   "cell_type": "code",
   "execution_count": 29,
   "metadata": {
    "execution": {
     "iopub.execute_input": "2020-10-30T18:30:44.518961Z",
     "iopub.status.busy": "2020-10-30T18:30:44.518224Z",
     "iopub.status.idle": "2020-10-30T18:30:44.531937Z",
     "shell.execute_reply": "2020-10-30T18:30:44.532884Z"
    },
    "papermill": {
     "duration": 0.134043,
     "end_time": "2020-10-30T18:30:44.533042",
     "exception": false,
     "start_time": "2020-10-30T18:30:44.398999",
     "status": "completed"
    },
    "tags": []
   },
   "outputs": [
    {
     "data": {
      "text/html": [
       "<div>\n",
       "<style scoped>\n",
       "    .dataframe tbody tr th:only-of-type {\n",
       "        vertical-align: middle;\n",
       "    }\n",
       "\n",
       "    .dataframe tbody tr th {\n",
       "        vertical-align: top;\n",
       "    }\n",
       "\n",
       "    .dataframe thead th {\n",
       "        text-align: right;\n",
       "    }\n",
       "</style>\n",
       "<table border=\"1\" class=\"dataframe\">\n",
       "  <thead>\n",
       "    <tr style=\"text-align: right;\">\n",
       "      <th></th>\n",
       "      <th>question_id</th>\n",
       "      <th>part</th>\n",
       "      <th>quest_pct</th>\n",
       "      <th>count</th>\n",
       "    </tr>\n",
       "  </thead>\n",
       "  <tbody>\n",
       "    <tr>\n",
       "      <th>0</th>\n",
       "      <td>0</td>\n",
       "      <td>1</td>\n",
       "      <td>0.90772</td>\n",
       "      <td>6903</td>\n",
       "    </tr>\n",
       "    <tr>\n",
       "      <th>1</th>\n",
       "      <td>1</td>\n",
       "      <td>1</td>\n",
       "      <td>0.89065</td>\n",
       "      <td>7398</td>\n",
       "    </tr>\n",
       "    <tr>\n",
       "      <th>2</th>\n",
       "      <td>2</td>\n",
       "      <td>1</td>\n",
       "      <td>0.55428</td>\n",
       "      <td>44905</td>\n",
       "    </tr>\n",
       "    <tr>\n",
       "      <th>3</th>\n",
       "      <td>3</td>\n",
       "      <td>1</td>\n",
       "      <td>0.77944</td>\n",
       "      <td>22973</td>\n",
       "    </tr>\n",
       "    <tr>\n",
       "      <th>4</th>\n",
       "      <td>4</td>\n",
       "      <td>1</td>\n",
       "      <td>0.61322</td>\n",
       "      <td>31736</td>\n",
       "    </tr>\n",
       "  </tbody>\n",
       "</table>\n",
       "</div>"
      ],
      "text/plain": [
       "   question_id  part  quest_pct  count\n",
       "0            0     1    0.90772   6903\n",
       "1            1     1    0.89065   7398\n",
       "2            2     1    0.55428  44905\n",
       "3            3     1    0.77944  22973\n",
       "4            4     1    0.61322  31736"
      ]
     },
     "metadata": {},
     "output_type": "display_data"
    },
    {
     "data": {
      "text/html": [
       "<div>\n",
       "<style scoped>\n",
       "    .dataframe tbody tr th:only-of-type {\n",
       "        vertical-align: middle;\n",
       "    }\n",
       "\n",
       "    .dataframe tbody tr th {\n",
       "        vertical-align: top;\n",
       "    }\n",
       "\n",
       "    .dataframe thead th {\n",
       "        text-align: right;\n",
       "    }\n",
       "</style>\n",
       "<table border=\"1\" class=\"dataframe\">\n",
       "  <thead>\n",
       "    <tr style=\"text-align: right;\">\n",
       "      <th></th>\n",
       "      <th>question_id</th>\n",
       "      <th>part</th>\n",
       "      <th>quest_pct</th>\n",
       "      <th>count</th>\n",
       "    </tr>\n",
       "  </thead>\n",
       "  <tbody>\n",
       "    <tr>\n",
       "      <th>13518</th>\n",
       "      <td>13518</td>\n",
       "      <td>5</td>\n",
       "      <td>0.78687</td>\n",
       "      <td>868</td>\n",
       "    </tr>\n",
       "    <tr>\n",
       "      <th>13519</th>\n",
       "      <td>13519</td>\n",
       "      <td>5</td>\n",
       "      <td>0.57143</td>\n",
       "      <td>924</td>\n",
       "    </tr>\n",
       "    <tr>\n",
       "      <th>13520</th>\n",
       "      <td>13520</td>\n",
       "      <td>5</td>\n",
       "      <td>0.67247</td>\n",
       "      <td>861</td>\n",
       "    </tr>\n",
       "    <tr>\n",
       "      <th>13521</th>\n",
       "      <td>13521</td>\n",
       "      <td>5</td>\n",
       "      <td>0.80805</td>\n",
       "      <td>870</td>\n",
       "    </tr>\n",
       "    <tr>\n",
       "      <th>13522</th>\n",
       "      <td>13522</td>\n",
       "      <td>5</td>\n",
       "      <td>0.91395</td>\n",
       "      <td>860</td>\n",
       "    </tr>\n",
       "  </tbody>\n",
       "</table>\n",
       "</div>"
      ],
      "text/plain": [
       "       question_id  part  quest_pct  count\n",
       "13518        13518     5    0.78687    868\n",
       "13519        13519     5    0.57143    924\n",
       "13520        13520     5    0.67247    861\n",
       "13521        13521     5    0.80805    870\n",
       "13522        13522     5    0.91395    860"
      ]
     },
     "metadata": {},
     "output_type": "display_data"
    }
   ],
   "source": [
    "display(question2.head(), question2.tail())"
   ]
  },
  {
   "cell_type": "code",
   "execution_count": 30,
   "metadata": {
    "execution": {
     "iopub.execute_input": "2020-10-30T18:30:44.700304Z",
     "iopub.status.busy": "2020-10-30T18:30:44.699450Z",
     "iopub.status.idle": "2020-10-30T18:30:44.704573Z",
     "shell.execute_reply": "2020-10-30T18:30:44.704104Z"
    },
    "papermill": {
     "duration": 0.096861,
     "end_time": "2020-10-30T18:30:44.704696",
     "exception": false,
     "start_time": "2020-10-30T18:30:44.607835",
     "status": "completed"
    },
    "tags": []
   },
   "outputs": [
    {
     "data": {
      "text/html": [
       "<div>\n",
       "<style scoped>\n",
       "    .dataframe tbody tr th:only-of-type {\n",
       "        vertical-align: middle;\n",
       "    }\n",
       "\n",
       "    .dataframe tbody tr th {\n",
       "        vertical-align: top;\n",
       "    }\n",
       "\n",
       "    .dataframe thead th {\n",
       "        text-align: right;\n",
       "    }\n",
       "</style>\n",
       "<table border=\"1\" class=\"dataframe\">\n",
       "  <thead>\n",
       "    <tr style=\"text-align: right;\">\n",
       "      <th></th>\n",
       "      <th>timestamp</th>\n",
       "      <th>user_id</th>\n",
       "      <th>content_id</th>\n",
       "      <th>content_type_id</th>\n",
       "      <th>task_container_id</th>\n",
       "      <th>answered_correctly</th>\n",
       "      <th>prior_question_elapsed_time</th>\n",
       "      <th>prior_question_had_explanation</th>\n",
       "      <th>question_id</th>\n",
       "      <th>part</th>\n",
       "    </tr>\n",
       "  </thead>\n",
       "  <tbody>\n",
       "    <tr>\n",
       "      <th>0</th>\n",
       "      <td>0</td>\n",
       "      <td>115</td>\n",
       "      <td>5692</td>\n",
       "      <td>0</td>\n",
       "      <td>1</td>\n",
       "      <td>1</td>\n",
       "      <td>NaN</td>\n",
       "      <td>&lt;NA&gt;</td>\n",
       "      <td>5692</td>\n",
       "      <td>5</td>\n",
       "    </tr>\n",
       "    <tr>\n",
       "      <th>1</th>\n",
       "      <td>0</td>\n",
       "      <td>1805962620</td>\n",
       "      <td>5547</td>\n",
       "      <td>0</td>\n",
       "      <td>0</td>\n",
       "      <td>0</td>\n",
       "      <td>NaN</td>\n",
       "      <td>&lt;NA&gt;</td>\n",
       "      <td>5547</td>\n",
       "      <td>5</td>\n",
       "    </tr>\n",
       "    <tr>\n",
       "      <th>2</th>\n",
       "      <td>0</td>\n",
       "      <td>2015251289</td>\n",
       "      <td>4024</td>\n",
       "      <td>0</td>\n",
       "      <td>0</td>\n",
       "      <td>1</td>\n",
       "      <td>NaN</td>\n",
       "      <td>&lt;NA&gt;</td>\n",
       "      <td>4024</td>\n",
       "      <td>5</td>\n",
       "    </tr>\n",
       "    <tr>\n",
       "      <th>3</th>\n",
       "      <td>0</td>\n",
       "      <td>867941388</td>\n",
       "      <td>6659</td>\n",
       "      <td>0</td>\n",
       "      <td>0</td>\n",
       "      <td>1</td>\n",
       "      <td>NaN</td>\n",
       "      <td>&lt;NA&gt;</td>\n",
       "      <td>6659</td>\n",
       "      <td>5</td>\n",
       "    </tr>\n",
       "    <tr>\n",
       "      <th>4</th>\n",
       "      <td>0</td>\n",
       "      <td>867946278</td>\n",
       "      <td>3977</td>\n",
       "      <td>0</td>\n",
       "      <td>0</td>\n",
       "      <td>1</td>\n",
       "      <td>NaN</td>\n",
       "      <td>&lt;NA&gt;</td>\n",
       "      <td>3977</td>\n",
       "      <td>5</td>\n",
       "    </tr>\n",
       "  </tbody>\n",
       "</table>\n",
       "</div>"
      ],
      "text/plain": [
       "   timestamp     user_id  content_id  content_type_id  task_container_id  \\\n",
       "0          0         115        5692                0                  1   \n",
       "1          0  1805962620        5547                0                  0   \n",
       "2          0  2015251289        4024                0                  0   \n",
       "3          0   867941388        6659                0                  0   \n",
       "4          0   867946278        3977                0                  0   \n",
       "\n",
       "   answered_correctly  prior_question_elapsed_time  \\\n",
       "0                   1                          NaN   \n",
       "1                   0                          NaN   \n",
       "2                   1                          NaN   \n",
       "3                   1                          NaN   \n",
       "4                   1                          NaN   \n",
       "\n",
       "   prior_question_had_explanation  question_id  part  \n",
       "0                            <NA>         5692     5  \n",
       "1                            <NA>         5547     5  \n",
       "2                            <NA>         4024     5  \n",
       "3                            <NA>         6659     5  \n",
       "4                            <NA>         3977     5  "
      ]
     },
     "execution_count": 30,
     "metadata": {},
     "output_type": "execute_result"
    }
   ],
   "source": [
    "train.head()"
   ]
  },
  {
   "cell_type": "code",
   "execution_count": 31,
   "metadata": {
    "execution": {
     "iopub.execute_input": "2020-10-30T18:30:44.867751Z",
     "iopub.status.busy": "2020-10-30T18:30:44.866915Z",
     "iopub.status.idle": "2020-10-30T18:30:44.870236Z",
     "shell.execute_reply": "2020-10-30T18:30:44.868432Z"
    },
    "papermill": {
     "duration": 0.092536,
     "end_time": "2020-10-30T18:30:44.870352",
     "exception": false,
     "start_time": "2020-10-30T18:30:44.777816",
     "status": "completed"
    },
    "tags": []
   },
   "outputs": [
    {
     "data": {
      "text/plain": [
       "99271300"
      ]
     },
     "execution_count": 31,
     "metadata": {},
     "output_type": "execute_result"
    }
   ],
   "source": [
    "len(train)"
   ]
  },
  {
   "cell_type": "markdown",
   "metadata": {
    "papermill": {
     "duration": 0.092857,
     "end_time": "2020-10-30T18:30:45.040685",
     "exception": false,
     "start_time": "2020-10-30T18:30:44.947828",
     "status": "completed"
    },
    "tags": []
   },
   "source": [
    "## Data Exploration ##"
   ]
  },
  {
   "cell_type": "code",
   "execution_count": 32,
   "metadata": {
    "execution": {
     "iopub.execute_input": "2020-10-30T18:30:45.169661Z",
     "iopub.status.busy": "2020-10-30T18:30:45.168436Z",
     "iopub.status.idle": "2020-10-30T18:30:45.172032Z",
     "shell.execute_reply": "2020-10-30T18:30:45.172487Z"
    },
    "papermill": {
     "duration": 0.067389,
     "end_time": "2020-10-30T18:30:45.172623",
     "exception": false,
     "start_time": "2020-10-30T18:30:45.105234",
     "status": "completed"
    },
    "tags": []
   },
   "outputs": [
    {
     "data": {
      "text/plain": [
       "99271300"
      ]
     },
     "execution_count": 32,
     "metadata": {},
     "output_type": "execute_result"
    }
   ],
   "source": [
    "len(train)"
   ]
  },
  {
   "cell_type": "code",
   "execution_count": 33,
   "metadata": {
    "execution": {
     "iopub.execute_input": "2020-10-30T18:30:45.333183Z",
     "iopub.status.busy": "2020-10-30T18:30:45.332342Z",
     "iopub.status.idle": "2020-10-30T18:30:45.403871Z",
     "shell.execute_reply": "2020-10-30T18:30:45.403383Z"
    },
    "papermill": {
     "duration": 0.134113,
     "end_time": "2020-10-30T18:30:45.403968",
     "exception": false,
     "start_time": "2020-10-30T18:30:45.269855",
     "status": "completed"
    },
    "tags": []
   },
   "outputs": [
    {
     "data": {
      "text/plain": [
       "0.6572355454194717"
      ]
     },
     "execution_count": 33,
     "metadata": {},
     "output_type": "execute_result"
    }
   ],
   "source": [
    "train.answered_correctly.mean()"
   ]
  },
  {
   "cell_type": "code",
   "execution_count": 34,
   "metadata": {
    "execution": {
     "iopub.execute_input": "2020-10-30T18:30:45.526020Z",
     "iopub.status.busy": "2020-10-30T18:30:45.525322Z",
     "iopub.status.idle": "2020-10-30T18:30:45.528717Z",
     "shell.execute_reply": "2020-10-30T18:30:45.528213Z"
    },
    "papermill": {
     "duration": 0.065947,
     "end_time": "2020-10-30T18:30:45.528816",
     "exception": false,
     "start_time": "2020-10-30T18:30:45.462869",
     "status": "completed"
    },
    "tags": []
   },
   "outputs": [],
   "source": [
    "prior_mean_user = results_u2_final.explanation_mean_user.mean()"
   ]
  },
  {
   "cell_type": "code",
   "execution_count": 35,
   "metadata": {
    "execution": {
     "iopub.execute_input": "2020-10-30T18:30:45.658585Z",
     "iopub.status.busy": "2020-10-30T18:30:45.657781Z",
     "iopub.status.idle": "2020-10-30T18:30:45.784967Z",
     "shell.execute_reply": "2020-10-30T18:30:45.784475Z"
    },
    "papermill": {
     "duration": 0.197254,
     "end_time": "2020-10-30T18:30:45.785069",
     "exception": false,
     "start_time": "2020-10-30T18:30:45.587815",
     "status": "completed"
    },
    "tags": []
   },
   "outputs": [
    {
     "data": {
      "text/plain": [
       "0.6787809364253148"
      ]
     },
     "execution_count": 35,
     "metadata": {},
     "output_type": "execute_result"
    }
   ],
   "source": [
    "train.loc[(train.timestamp == 0)].answered_correctly.mean()"
   ]
  },
  {
   "cell_type": "code",
   "execution_count": 36,
   "metadata": {
    "execution": {
     "iopub.execute_input": "2020-10-30T18:30:45.918560Z",
     "iopub.status.busy": "2020-10-30T18:30:45.914579Z",
     "iopub.status.idle": "2020-10-30T18:30:50.238647Z",
     "shell.execute_reply": "2020-10-30T18:30:50.238125Z"
    },
    "papermill": {
     "duration": 4.394188,
     "end_time": "2020-10-30T18:30:50.238758",
     "exception": false,
     "start_time": "2020-10-30T18:30:45.844570",
     "status": "completed"
    },
    "tags": []
   },
   "outputs": [
    {
     "data": {
      "text/plain": [
       "0.6571491814363561"
      ]
     },
     "execution_count": 36,
     "metadata": {},
     "output_type": "execute_result"
    }
   ],
   "source": [
    "train.loc[(train.timestamp != 0)].answered_correctly.mean()"
   ]
  },
  {
   "cell_type": "code",
   "execution_count": 37,
   "metadata": {
    "execution": {
     "iopub.execute_input": "2020-10-30T18:30:51.160787Z",
     "iopub.status.busy": "2020-10-30T18:30:51.159368Z",
     "iopub.status.idle": "2020-10-30T18:30:51.162242Z",
     "shell.execute_reply": "2020-10-30T18:30:51.162761Z"
    },
    "papermill": {
     "duration": 0.863208,
     "end_time": "2020-10-30T18:30:51.162901",
     "exception": false,
     "start_time": "2020-10-30T18:30:50.299693",
     "status": "completed"
    },
    "tags": []
   },
   "outputs": [],
   "source": [
    "train.drop(['timestamp', 'content_type_id', 'question_id', 'part'], axis=1, inplace=True)"
   ]
  },
  {
   "cell_type": "code",
   "execution_count": 38,
   "metadata": {
    "execution": {
     "iopub.execute_input": "2020-10-30T18:30:51.291160Z",
     "iopub.status.busy": "2020-10-30T18:30:51.290493Z",
     "iopub.status.idle": "2020-10-30T18:30:51.296334Z",
     "shell.execute_reply": "2020-10-30T18:30:51.296799Z"
    },
    "papermill": {
     "duration": 0.071352,
     "end_time": "2020-10-30T18:30:51.296928",
     "exception": false,
     "start_time": "2020-10-30T18:30:51.225576",
     "status": "completed"
    },
    "tags": []
   },
   "outputs": [
    {
     "data": {
      "text/plain": [
       "99271300"
      ]
     },
     "execution_count": 38,
     "metadata": {},
     "output_type": "execute_result"
    }
   ],
   "source": [
    "len(train)"
   ]
  },
  {
   "cell_type": "markdown",
   "metadata": {
    "papermill": {
     "duration": 0.059855,
     "end_time": "2020-10-30T18:30:51.419973",
     "exception": false,
     "start_time": "2020-10-30T18:30:51.360118",
     "status": "completed"
    },
    "tags": []
   },
   "source": [
    "## Creating Validation Set (Most Recent Answers by User) ##"
   ]
  },
  {
   "cell_type": "code",
   "execution_count": 39,
   "metadata": {
    "execution": {
     "iopub.execute_input": "2020-10-30T18:30:51.717438Z",
     "iopub.status.busy": "2020-10-30T18:30:51.716122Z",
     "iopub.status.idle": "2020-10-30T18:31:14.559408Z",
     "shell.execute_reply": "2020-10-30T18:31:14.558902Z"
    },
    "papermill": {
     "duration": 22.95362,
     "end_time": "2020-10-30T18:31:14.559520",
     "exception": false,
     "start_time": "2020-10-30T18:30:51.605900",
     "status": "completed"
    },
    "tags": []
   },
   "outputs": [
    {
     "data": {
      "text/plain": [
       "99271300"
      ]
     },
     "execution_count": 39,
     "metadata": {},
     "output_type": "execute_result"
    }
   ],
   "source": [
    "validation = train.groupby('user_id').tail(5)\n",
    "train = train[~train.index.isin(validation.index)]\n",
    "len(train) + len(validation)"
   ]
  },
  {
   "cell_type": "code",
   "execution_count": 40,
   "metadata": {
    "execution": {
     "iopub.execute_input": "2020-10-30T18:31:14.687963Z",
     "iopub.status.busy": "2020-10-30T18:31:14.687053Z",
     "iopub.status.idle": "2020-10-30T18:31:14.693667Z",
     "shell.execute_reply": "2020-10-30T18:31:14.693167Z"
    },
    "papermill": {
     "duration": 0.072255,
     "end_time": "2020-10-30T18:31:14.693765",
     "exception": false,
     "start_time": "2020-10-30T18:31:14.621510",
     "status": "completed"
    },
    "tags": []
   },
   "outputs": [
    {
     "data": {
      "text/plain": [
       "0.5405640978205958"
      ]
     },
     "execution_count": 40,
     "metadata": {},
     "output_type": "execute_result"
    }
   ],
   "source": [
    "validation.answered_correctly.mean()"
   ]
  },
  {
   "cell_type": "code",
   "execution_count": 41,
   "metadata": {
    "execution": {
     "iopub.execute_input": "2020-10-30T18:31:14.822401Z",
     "iopub.status.busy": "2020-10-30T18:31:14.821524Z",
     "iopub.status.idle": "2020-10-30T18:31:14.891125Z",
     "shell.execute_reply": "2020-10-30T18:31:14.890614Z"
    },
    "papermill": {
     "duration": 0.135666,
     "end_time": "2020-10-30T18:31:14.891218",
     "exception": false,
     "start_time": "2020-10-30T18:31:14.755552",
     "status": "completed"
    },
    "tags": []
   },
   "outputs": [
    {
     "data": {
      "text/plain": [
       "0.6595947874457968"
      ]
     },
     "execution_count": 41,
     "metadata": {},
     "output_type": "execute_result"
    }
   ],
   "source": [
    "train.answered_correctly.mean()"
   ]
  },
  {
   "cell_type": "code",
   "execution_count": 42,
   "metadata": {
    "execution": {
     "iopub.execute_input": "2020-10-30T18:31:15.812122Z",
     "iopub.status.busy": "2020-10-30T18:31:15.283657Z",
     "iopub.status.idle": "2020-10-30T18:31:32.628692Z",
     "shell.execute_reply": "2020-10-30T18:31:32.627630Z"
    },
    "papermill": {
     "duration": 17.675045,
     "end_time": "2020-10-30T18:31:32.628820",
     "exception": false,
     "start_time": "2020-10-30T18:31:14.953775",
     "status": "completed"
    },
    "tags": []
   },
   "outputs": [],
   "source": [
    "results_u_val = train[['user_id','answered_correctly']].groupby(['user_id']).agg(['mean'])\n",
    "results_u_val.columns = ['answered_correctly_user']\n",
    "\n",
    "results_u2_val = train[['user_id','prior_question_had_explanation']].groupby(['user_id']).agg(['mean'])\n",
    "results_u2_val.columns = ['explanation_mean_user']"
   ]
  },
  {
   "cell_type": "markdown",
   "metadata": {
    "papermill": {
     "duration": 0.062246,
     "end_time": "2020-10-30T18:31:32.753560",
     "exception": false,
     "start_time": "2020-10-30T18:31:32.691314",
     "status": "completed"
    },
    "tags": []
   },
   "source": [
    "Does it make sense to use last questions as validation? Why is the rate of correct answers so low?\n",
    "I am convinced there is a better way to match the test data."
   ]
  },
  {
   "cell_type": "markdown",
   "metadata": {
    "papermill": {
     "duration": 0.062267,
     "end_time": "2020-10-30T18:31:32.878153",
     "exception": false,
     "start_time": "2020-10-30T18:31:32.815886",
     "status": "completed"
    },
    "tags": []
   },
   "source": [
    "## Extracting Training Data ##"
   ]
  },
  {
   "cell_type": "code",
   "execution_count": 43,
   "metadata": {
    "execution": {
     "iopub.execute_input": "2020-10-30T18:31:33.010475Z",
     "iopub.status.busy": "2020-10-30T18:31:33.009047Z",
     "iopub.status.idle": "2020-10-30T18:31:57.069521Z",
     "shell.execute_reply": "2020-10-30T18:31:57.069010Z"
    },
    "papermill": {
     "duration": 24.129633,
     "end_time": "2020-10-30T18:31:57.069659",
     "exception": false,
     "start_time": "2020-10-30T18:31:32.940026",
     "status": "completed"
    },
    "tags": []
   },
   "outputs": [
    {
     "data": {
      "text/plain": [
       "99271300"
      ]
     },
     "execution_count": 43,
     "metadata": {},
     "output_type": "execute_result"
    }
   ],
   "source": [
    "X = train.groupby('user_id').tail(18)\n",
    "train = train[~train.index.isin(X.index)]\n",
    "len(X) + len(train) + len(validation)"
   ]
  },
  {
   "cell_type": "code",
   "execution_count": 44,
   "metadata": {
    "execution": {
     "iopub.execute_input": "2020-10-30T18:31:57.201183Z",
     "iopub.status.busy": "2020-10-30T18:31:57.200336Z",
     "iopub.status.idle": "2020-10-30T18:31:57.209715Z",
     "shell.execute_reply": "2020-10-30T18:31:57.210154Z"
    },
    "papermill": {
     "duration": 0.077582,
     "end_time": "2020-10-30T18:31:57.210279",
     "exception": false,
     "start_time": "2020-10-30T18:31:57.132697",
     "status": "completed"
    },
    "tags": []
   },
   "outputs": [
    {
     "data": {
      "text/plain": [
       "0.5518996164435279"
      ]
     },
     "execution_count": 44,
     "metadata": {},
     "output_type": "execute_result"
    }
   ],
   "source": [
    "X.answered_correctly.mean()"
   ]
  },
  {
   "cell_type": "code",
   "execution_count": 45,
   "metadata": {
    "execution": {
     "iopub.execute_input": "2020-10-30T18:31:57.343811Z",
     "iopub.status.busy": "2020-10-30T18:31:57.342915Z",
     "iopub.status.idle": "2020-10-30T18:31:57.408296Z",
     "shell.execute_reply": "2020-10-30T18:31:57.407814Z"
    },
    "papermill": {
     "duration": 0.134154,
     "end_time": "2020-10-30T18:31:57.408393",
     "exception": false,
     "start_time": "2020-10-30T18:31:57.274239",
     "status": "completed"
    },
    "tags": []
   },
   "outputs": [
    {
     "data": {
      "text/plain": [
       "0.6674455337037223"
      ]
     },
     "execution_count": 45,
     "metadata": {},
     "output_type": "execute_result"
    }
   ],
   "source": [
    "train.answered_correctly.mean()"
   ]
  },
  {
   "cell_type": "code",
   "execution_count": 46,
   "metadata": {
    "execution": {
     "iopub.execute_input": "2020-10-30T18:31:58.362427Z",
     "iopub.status.busy": "2020-10-30T18:31:58.116186Z",
     "iopub.status.idle": "2020-10-30T18:32:13.608872Z",
     "shell.execute_reply": "2020-10-30T18:32:13.607759Z"
    },
    "papermill": {
     "duration": 16.135509,
     "end_time": "2020-10-30T18:32:13.609055",
     "exception": false,
     "start_time": "2020-10-30T18:31:57.473546",
     "status": "completed"
    },
    "tags": []
   },
   "outputs": [],
   "source": [
    "results_u_X = train[['user_id','answered_correctly']].groupby(['user_id']).agg(['mean'])\n",
    "results_u_X.columns = ['answered_correctly_user']\n",
    "\n",
    "results_u2_X = train[['user_id','prior_question_had_explanation']].groupby(['user_id']).agg(['mean'])\n",
    "results_u2_X.columns = ['explanation_mean_user']"
   ]
  },
  {
   "cell_type": "markdown",
   "metadata": {
    "papermill": {
     "duration": 0.066644,
     "end_time": "2020-10-30T18:32:13.743591",
     "exception": false,
     "start_time": "2020-10-30T18:32:13.676947",
     "status": "completed"
    },
    "tags": []
   },
   "source": [
    "## Merging Data ##"
   ]
  },
  {
   "cell_type": "code",
   "execution_count": 47,
   "metadata": {
    "execution": {
     "iopub.execute_input": "2020-10-30T18:32:13.992147Z",
     "iopub.status.busy": "2020-10-30T18:32:13.990050Z",
     "iopub.status.idle": "2020-10-30T18:32:13.992853Z",
     "shell.execute_reply": "2020-10-30T18:32:13.993342Z"
    },
    "papermill": {
     "duration": 0.182485,
     "end_time": "2020-10-30T18:32:13.993486",
     "exception": false,
     "start_time": "2020-10-30T18:32:13.811001",
     "status": "completed"
    },
    "tags": []
   },
   "outputs": [],
   "source": [
    "#clearing memory\n",
    "del(train)"
   ]
  },
  {
   "cell_type": "code",
   "execution_count": 48,
   "metadata": {
    "execution": {
     "iopub.execute_input": "2020-10-30T18:32:14.138382Z",
     "iopub.status.busy": "2020-10-30T18:32:14.136780Z",
     "iopub.status.idle": "2020-10-30T18:32:18.419417Z",
     "shell.execute_reply": "2020-10-30T18:32:18.418689Z"
    },
    "papermill": {
     "duration": 4.357752,
     "end_time": "2020-10-30T18:32:18.419534",
     "exception": false,
     "start_time": "2020-10-30T18:32:14.061782",
     "status": "completed"
    },
    "tags": []
   },
   "outputs": [],
   "source": [
    "X = pd.merge(X, group3, left_on=['task_container_id'], right_index= True, how=\"left\")\n",
    "X = pd.merge(X, results_u_X, on=['user_id'], how=\"left\")\n",
    "X = pd.merge(X, results_u2_X, on=['user_id'], how=\"left\")\n",
    "\n",
    "X = pd.merge(X, user_lecture_stats_part, on=['user_id'], how=\"left\")"
   ]
  },
  {
   "cell_type": "code",
   "execution_count": 49,
   "metadata": {
    "execution": {
     "iopub.execute_input": "2020-10-30T18:32:18.555995Z",
     "iopub.status.busy": "2020-10-30T18:32:18.554990Z",
     "iopub.status.idle": "2020-10-30T18:32:19.841769Z",
     "shell.execute_reply": "2020-10-30T18:32:19.841176Z"
    },
    "papermill": {
     "duration": 1.357739,
     "end_time": "2020-10-30T18:32:19.841886",
     "exception": false,
     "start_time": "2020-10-30T18:32:18.484147",
     "status": "completed"
    },
    "tags": []
   },
   "outputs": [],
   "source": [
    "validation = pd.merge(validation, group3, left_on=['task_container_id'], right_index= True, how=\"left\")\n",
    "validation = pd.merge(validation, results_u_val, on=['user_id'], how=\"left\")\n",
    "validation = pd.merge(validation, results_u2_val, on=['user_id'], how=\"left\")\n",
    "\n",
    "validation = pd.merge(validation, user_lecture_stats_part, on=['user_id'], how=\"left\")"
   ]
  },
  {
   "cell_type": "code",
   "execution_count": 50,
   "metadata": {
    "execution": {
     "iopub.execute_input": "2020-10-30T18:32:19.978161Z",
     "iopub.status.busy": "2020-10-30T18:32:19.977504Z",
     "iopub.status.idle": "2020-10-30T18:32:22.798106Z",
     "shell.execute_reply": "2020-10-30T18:32:22.797509Z"
    },
    "papermill": {
     "duration": 2.891219,
     "end_time": "2020-10-30T18:32:22.798219",
     "exception": false,
     "start_time": "2020-10-30T18:32:19.907000",
     "status": "completed"
    },
    "tags": []
   },
   "outputs": [],
   "source": [
    "from sklearn.preprocessing import LabelEncoder\n",
    "\n",
    "lb_make = LabelEncoder()\n",
    "\n",
    "X.prior_question_had_explanation.fillna(False, inplace = True)\n",
    "validation.prior_question_had_explanation.fillna(False, inplace = True)\n",
    "\n",
    "validation[\"prior_question_had_explanation_enc\"] = lb_make.fit_transform(validation[\"prior_question_had_explanation\"])\n",
    "X[\"prior_question_had_explanation_enc\"] = lb_make.fit_transform(X[\"prior_question_had_explanation\"])"
   ]
  },
  {
   "cell_type": "code",
   "execution_count": 51,
   "metadata": {
    "execution": {
     "iopub.execute_input": "2020-10-30T18:32:23.016249Z",
     "iopub.status.busy": "2020-10-30T18:32:23.015285Z",
     "iopub.status.idle": "2020-10-30T18:32:23.018247Z",
     "shell.execute_reply": "2020-10-30T18:32:23.019574Z"
    },
    "papermill": {
     "duration": 0.117061,
     "end_time": "2020-10-30T18:32:23.019768",
     "exception": false,
     "start_time": "2020-10-30T18:32:22.902707",
     "status": "completed"
    },
    "tags": []
   },
   "outputs": [],
   "source": [
    "#reading in question df\n",
    "#question2 = pd.read_csv('/kaggle/input/question2/question2.csv)"
   ]
  },
  {
   "cell_type": "code",
   "execution_count": 52,
   "metadata": {
    "execution": {
     "iopub.execute_input": "2020-10-30T18:32:23.217142Z",
     "iopub.status.busy": "2020-10-30T18:32:23.216186Z",
     "iopub.status.idle": "2020-10-30T18:32:23.222660Z",
     "shell.execute_reply": "2020-10-30T18:32:23.223324Z"
    },
    "papermill": {
     "duration": 0.107573,
     "end_time": "2020-10-30T18:32:23.223490",
     "exception": false,
     "start_time": "2020-10-30T18:32:23.115917",
     "status": "completed"
    },
    "tags": []
   },
   "outputs": [
    {
     "data": {
      "text/plain": [
       "0.7094600658138017"
      ]
     },
     "execution_count": 52,
     "metadata": {},
     "output_type": "execute_result"
    }
   ],
   "source": [
    "content_mean = question2.quest_pct.mean()\n",
    "\n",
    "question2.quest_pct.mean()\n",
    "#there are a lot of high percentage questions, should use median instead?"
   ]
  },
  {
   "cell_type": "code",
   "execution_count": 53,
   "metadata": {
    "execution": {
     "iopub.execute_input": "2020-10-30T18:32:23.420846Z",
     "iopub.status.busy": "2020-10-30T18:32:23.419983Z",
     "iopub.status.idle": "2020-10-30T18:32:23.449459Z",
     "shell.execute_reply": "2020-10-30T18:32:23.450440Z"
    },
    "papermill": {
     "duration": 0.133191,
     "end_time": "2020-10-30T18:32:23.450587",
     "exception": false,
     "start_time": "2020-10-30T18:32:23.317396",
     "status": "completed"
    },
    "tags": []
   },
   "outputs": [],
   "source": [
    "#filling questions with no info with a new value\n",
    "question2.quest_pct = question2.quest_pct.mask((question2['count'] < 3), .65)\n",
    "\n",
    "\n",
    "#filling very hard new questions with a more reasonable value\n",
    "question2.quest_pct = question2.quest_pct.mask((question2.quest_pct < .2) & (question2['count'] < 21), .2)\n",
    "\n",
    "#filling very easy new questions with a more reasonable value\n",
    "question2.quest_pct = question2.quest_pct.mask((question2.quest_pct > .95) & (question2['count'] < 21), .95)"
   ]
  },
  {
   "cell_type": "code",
   "execution_count": 54,
   "metadata": {
    "execution": {
     "iopub.execute_input": "2020-10-30T18:32:23.644418Z",
     "iopub.status.busy": "2020-10-30T18:32:23.643688Z",
     "iopub.status.idle": "2020-10-30T18:32:26.206644Z",
     "shell.execute_reply": "2020-10-30T18:32:26.205483Z"
    },
    "papermill": {
     "duration": 2.658176,
     "end_time": "2020-10-30T18:32:26.206787",
     "exception": false,
     "start_time": "2020-10-30T18:32:23.548611",
     "status": "completed"
    },
    "tags": []
   },
   "outputs": [],
   "source": [
    "X = pd.merge(X, question2, left_on = 'content_id', right_on = 'question_id', how = 'left')\n",
    "validation = pd.merge(validation, question2, left_on = 'content_id', right_on = 'question_id', how = 'left')\n",
    "X.part = X.part - 1\n",
    "validation.part = validation.part - 1"
   ]
  },
  {
   "cell_type": "code",
   "execution_count": 55,
   "metadata": {
    "execution": {
     "iopub.execute_input": "2020-10-30T18:32:26.360545Z",
     "iopub.status.busy": "2020-10-30T18:32:26.357982Z",
     "iopub.status.idle": "2020-10-30T18:32:26.372250Z",
     "shell.execute_reply": "2020-10-30T18:32:26.371795Z"
    },
    "papermill": {
     "duration": 0.099169,
     "end_time": "2020-10-30T18:32:26.372357",
     "exception": false,
     "start_time": "2020-10-30T18:32:26.273188",
     "status": "completed"
    },
    "tags": []
   },
   "outputs": [
    {
     "data": {
      "text/html": [
       "<div>\n",
       "<style scoped>\n",
       "    .dataframe tbody tr th:only-of-type {\n",
       "        vertical-align: middle;\n",
       "    }\n",
       "\n",
       "    .dataframe tbody tr th {\n",
       "        vertical-align: top;\n",
       "    }\n",
       "\n",
       "    .dataframe thead th {\n",
       "        text-align: right;\n",
       "    }\n",
       "</style>\n",
       "<table border=\"1\" class=\"dataframe\">\n",
       "  <thead>\n",
       "    <tr style=\"text-align: right;\">\n",
       "      <th></th>\n",
       "      <th>user_id</th>\n",
       "      <th>content_id</th>\n",
       "      <th>task_container_id</th>\n",
       "      <th>answered_correctly</th>\n",
       "      <th>prior_question_elapsed_time</th>\n",
       "      <th>prior_question_had_explanation</th>\n",
       "      <th>avg_questions</th>\n",
       "      <th>avg_questions_seen</th>\n",
       "      <th>answered_correctly_user</th>\n",
       "      <th>explanation_mean_user</th>\n",
       "      <th>...</th>\n",
       "      <th>part_7_boolean</th>\n",
       "      <th>type_of_concept_boolean</th>\n",
       "      <th>type_of_intention_boolean</th>\n",
       "      <th>type_of_solving_question_boolean</th>\n",
       "      <th>type_of_starter_boolean</th>\n",
       "      <th>prior_question_had_explanation_enc</th>\n",
       "      <th>question_id</th>\n",
       "      <th>part</th>\n",
       "      <th>quest_pct</th>\n",
       "      <th>count</th>\n",
       "    </tr>\n",
       "  </thead>\n",
       "  <tbody>\n",
       "    <tr>\n",
       "      <th>0</th>\n",
       "      <td>867946278</td>\n",
       "      <td>3977</td>\n",
       "      <td>0</td>\n",
       "      <td>1</td>\n",
       "      <td>NaN</td>\n",
       "      <td>False</td>\n",
       "      <td>1.006649</td>\n",
       "      <td>1.006649</td>\n",
       "      <td>NaN</td>\n",
       "      <td>NaN</td>\n",
       "      <td>...</td>\n",
       "      <td>NaN</td>\n",
       "      <td>NaN</td>\n",
       "      <td>NaN</td>\n",
       "      <td>NaN</td>\n",
       "      <td>NaN</td>\n",
       "      <td>0</td>\n",
       "      <td>3977</td>\n",
       "      <td>4</td>\n",
       "      <td>0.87455</td>\n",
       "      <td>14428</td>\n",
       "    </tr>\n",
       "    <tr>\n",
       "      <th>1</th>\n",
       "      <td>1440786713</td>\n",
       "      <td>3889</td>\n",
       "      <td>0</td>\n",
       "      <td>1</td>\n",
       "      <td>NaN</td>\n",
       "      <td>False</td>\n",
       "      <td>1.006649</td>\n",
       "      <td>1.006649</td>\n",
       "      <td>NaN</td>\n",
       "      <td>NaN</td>\n",
       "      <td>...</td>\n",
       "      <td>NaN</td>\n",
       "      <td>NaN</td>\n",
       "      <td>NaN</td>\n",
       "      <td>NaN</td>\n",
       "      <td>NaN</td>\n",
       "      <td>0</td>\n",
       "      <td>3889</td>\n",
       "      <td>4</td>\n",
       "      <td>0.70104</td>\n",
       "      <td>6633</td>\n",
       "    </tr>\n",
       "    <tr>\n",
       "      <th>2</th>\n",
       "      <td>1805972720</td>\n",
       "      <td>5796</td>\n",
       "      <td>0</td>\n",
       "      <td>0</td>\n",
       "      <td>NaN</td>\n",
       "      <td>False</td>\n",
       "      <td>1.006649</td>\n",
       "      <td>1.006649</td>\n",
       "      <td>NaN</td>\n",
       "      <td>NaN</td>\n",
       "      <td>...</td>\n",
       "      <td>NaN</td>\n",
       "      <td>NaN</td>\n",
       "      <td>NaN</td>\n",
       "      <td>NaN</td>\n",
       "      <td>NaN</td>\n",
       "      <td>0</td>\n",
       "      <td>5796</td>\n",
       "      <td>4</td>\n",
       "      <td>0.74372</td>\n",
       "      <td>3859</td>\n",
       "    </tr>\n",
       "    <tr>\n",
       "      <th>3</th>\n",
       "      <td>1805982086</td>\n",
       "      <td>6004</td>\n",
       "      <td>0</td>\n",
       "      <td>1</td>\n",
       "      <td>NaN</td>\n",
       "      <td>False</td>\n",
       "      <td>1.006649</td>\n",
       "      <td>1.006649</td>\n",
       "      <td>NaN</td>\n",
       "      <td>NaN</td>\n",
       "      <td>...</td>\n",
       "      <td>NaN</td>\n",
       "      <td>NaN</td>\n",
       "      <td>NaN</td>\n",
       "      <td>NaN</td>\n",
       "      <td>NaN</td>\n",
       "      <td>0</td>\n",
       "      <td>6004</td>\n",
       "      <td>4</td>\n",
       "      <td>0.64486</td>\n",
       "      <td>23022</td>\n",
       "    </tr>\n",
       "    <tr>\n",
       "      <th>4</th>\n",
       "      <td>1653617030</td>\n",
       "      <td>4123</td>\n",
       "      <td>0</td>\n",
       "      <td>1</td>\n",
       "      <td>NaN</td>\n",
       "      <td>False</td>\n",
       "      <td>1.006649</td>\n",
       "      <td>1.006649</td>\n",
       "      <td>NaN</td>\n",
       "      <td>NaN</td>\n",
       "      <td>...</td>\n",
       "      <td>NaN</td>\n",
       "      <td>NaN</td>\n",
       "      <td>NaN</td>\n",
       "      <td>NaN</td>\n",
       "      <td>NaN</td>\n",
       "      <td>0</td>\n",
       "      <td>4123</td>\n",
       "      <td>4</td>\n",
       "      <td>0.73155</td>\n",
       "      <td>39825</td>\n",
       "    </tr>\n",
       "  </tbody>\n",
       "</table>\n",
       "<p>5 rows × 37 columns</p>\n",
       "</div>"
      ],
      "text/plain": [
       "      user_id  content_id  task_container_id  answered_correctly  \\\n",
       "0   867946278        3977                  0                   1   \n",
       "1  1440786713        3889                  0                   1   \n",
       "2  1805972720        5796                  0                   0   \n",
       "3  1805982086        6004                  0                   1   \n",
       "4  1653617030        4123                  0                   1   \n",
       "\n",
       "   prior_question_elapsed_time  prior_question_had_explanation  avg_questions  \\\n",
       "0                          NaN                           False       1.006649   \n",
       "1                          NaN                           False       1.006649   \n",
       "2                          NaN                           False       1.006649   \n",
       "3                          NaN                           False       1.006649   \n",
       "4                          NaN                           False       1.006649   \n",
       "\n",
       "   avg_questions_seen  answered_correctly_user  explanation_mean_user  ...  \\\n",
       "0            1.006649                      NaN                    NaN  ...   \n",
       "1            1.006649                      NaN                    NaN  ...   \n",
       "2            1.006649                      NaN                    NaN  ...   \n",
       "3            1.006649                      NaN                    NaN  ...   \n",
       "4            1.006649                      NaN                    NaN  ...   \n",
       "\n",
       "   part_7_boolean  type_of_concept_boolean  type_of_intention_boolean  \\\n",
       "0             NaN                      NaN                        NaN   \n",
       "1             NaN                      NaN                        NaN   \n",
       "2             NaN                      NaN                        NaN   \n",
       "3             NaN                      NaN                        NaN   \n",
       "4             NaN                      NaN                        NaN   \n",
       "\n",
       "   type_of_solving_question_boolean  type_of_starter_boolean  \\\n",
       "0                               NaN                      NaN   \n",
       "1                               NaN                      NaN   \n",
       "2                               NaN                      NaN   \n",
       "3                               NaN                      NaN   \n",
       "4                               NaN                      NaN   \n",
       "\n",
       "   prior_question_had_explanation_enc  question_id  part  quest_pct  count  \n",
       "0                                   0         3977     4    0.87455  14428  \n",
       "1                                   0         3889     4    0.70104   6633  \n",
       "2                                   0         5796     4    0.74372   3859  \n",
       "3                                   0         6004     4    0.64486  23022  \n",
       "4                                   0         4123     4    0.73155  39825  \n",
       "\n",
       "[5 rows x 37 columns]"
      ]
     },
     "execution_count": 55,
     "metadata": {},
     "output_type": "execute_result"
    }
   ],
   "source": [
    "X.head()"
   ]
  },
  {
   "cell_type": "code",
   "execution_count": 56,
   "metadata": {
    "execution": {
     "iopub.execute_input": "2020-10-30T18:32:26.520097Z",
     "iopub.status.busy": "2020-10-30T18:32:26.518814Z",
     "iopub.status.idle": "2020-10-30T18:32:28.475275Z",
     "shell.execute_reply": "2020-10-30T18:32:28.474743Z"
    },
    "papermill": {
     "duration": 2.030403,
     "end_time": "2020-10-30T18:32:28.475400",
     "exception": false,
     "start_time": "2020-10-30T18:32:26.444997",
     "status": "completed"
    },
    "tags": []
   },
   "outputs": [],
   "source": [
    "y = X['answered_correctly']\n",
    "X = X.drop(['answered_correctly'], axis=1)\n",
    "X.head()\n",
    "\n",
    "y_val = validation['answered_correctly']\n",
    "X_val = validation.drop(['answered_correctly'], axis=1)"
   ]
  },
  {
   "cell_type": "code",
   "execution_count": 57,
   "metadata": {
    "execution": {
     "iopub.execute_input": "2020-10-30T18:32:29.233226Z",
     "iopub.status.busy": "2020-10-30T18:32:29.227418Z",
     "iopub.status.idle": "2020-10-30T18:32:29.246346Z",
     "shell.execute_reply": "2020-10-30T18:32:29.245759Z"
    },
    "papermill": {
     "duration": 0.702908,
     "end_time": "2020-10-30T18:32:29.246464",
     "exception": false,
     "start_time": "2020-10-30T18:32:28.543556",
     "status": "completed"
    },
    "tags": []
   },
   "outputs": [],
   "source": [
    "X = X[['answered_correctly_user', 'explanation_mean_user', 'quest_pct', 'avg_questions_seen',\n",
    "       'prior_question_elapsed_time','prior_question_had_explanation_enc', 'part',\n",
    "       'part_1', 'part_2', 'part_3', 'part_4', 'part_5', 'part_6', 'part_7',\n",
    "       'type_of_concept', 'type_of_intention', 'type_of_solving_question', 'type_of_starter',\n",
    "       'part_1_boolean', 'part_2_boolean', 'part_3_boolean', 'part_4_boolean', 'part_5_boolean', 'part_6_boolean', 'part_7_boolean',\n",
    "       'type_of_concept_boolean', 'type_of_intention_boolean', 'type_of_solving_question_boolean', 'type_of_starter_boolean']]\n",
    "X_val = X_val[['answered_correctly_user', 'explanation_mean_user', 'quest_pct', 'avg_questions_seen',\n",
    "               'prior_question_elapsed_time','prior_question_had_explanation_enc', 'part',\n",
    "               'part_1', 'part_2', 'part_3', 'part_4', 'part_5', 'part_6', 'part_7',\n",
    "               'type_of_concept', 'type_of_intention', 'type_of_solving_question', 'type_of_starter',\n",
    "               'part_1_boolean', 'part_2_boolean', 'part_3_boolean', 'part_4_boolean', 'part_5_boolean', 'part_6_boolean', 'part_7_boolean',\n",
    "               'type_of_concept_boolean', 'type_of_intention_boolean', 'type_of_solving_question_boolean', 'type_of_starter_boolean']]"
   ]
  },
  {
   "cell_type": "code",
   "execution_count": 58,
   "metadata": {
    "execution": {
     "iopub.execute_input": "2020-10-30T18:32:29.400903Z",
     "iopub.status.busy": "2020-10-30T18:32:29.399804Z",
     "iopub.status.idle": "2020-10-30T18:32:29.943231Z",
     "shell.execute_reply": "2020-10-30T18:32:29.942700Z"
    },
    "papermill": {
     "duration": 0.628645,
     "end_time": "2020-10-30T18:32:29.943345",
     "exception": false,
     "start_time": "2020-10-30T18:32:29.314700",
     "status": "completed"
    },
    "tags": []
   },
   "outputs": [],
   "source": [
    "\n",
    "# Filling with 0.5 for simplicity; there could likely be a better value\n",
    "X['answered_correctly_user'].fillna(0.65,  inplace=True)\n",
    "X['explanation_mean_user'].fillna(prior_mean_user,  inplace=True)\n",
    "X['quest_pct'].fillna(content_mean, inplace=True)\n",
    "\n",
    "X['part'].fillna(4, inplace = True)\n",
    "X['avg_questions_seen'].fillna(1, inplace = True)\n",
    "X['prior_question_elapsed_time'].fillna(elapsed_mean, inplace = True)\n",
    "X['prior_question_had_explanation_enc'].fillna(0, inplace = True)\n",
    "\n",
    "X['part_1'].fillna(0, inplace = True)\n",
    "X['part_2'].fillna(0, inplace = True)\n",
    "X['part_3'].fillna(0, inplace = True)\n",
    "X['part_4'].fillna(0, inplace = True)\n",
    "X['part_5'].fillna(0, inplace = True)\n",
    "X['part_6'].fillna(0, inplace = True)\n",
    "X['part_7'].fillna(0, inplace = True)\n",
    "X['type_of_concept'].fillna(0, inplace = True)\n",
    "X['type_of_intention'].fillna(0, inplace = True)\n",
    "X['type_of_solving_question'].fillna(0, inplace = True)\n",
    "X['type_of_starter'].fillna(0, inplace = True)\n",
    "X['part_1_boolean'].fillna(0, inplace = True)\n",
    "X['part_2_boolean'].fillna(0, inplace = True)\n",
    "X['part_3_boolean'].fillna(0, inplace = True)\n",
    "X['part_4_boolean'].fillna(0, inplace = True)\n",
    "X['part_5_boolean'].fillna(0, inplace = True)\n",
    "X['part_6_boolean'].fillna(0, inplace = True)\n",
    "X['part_7_boolean'].fillna(0, inplace = True)\n",
    "X['type_of_concept_boolean'].fillna(0, inplace = True)\n",
    "X['type_of_intention_boolean'].fillna(0, inplace = True)\n",
    "X['type_of_solving_question_boolean'].fillna(0, inplace = True)\n",
    "X['type_of_starter_boolean'].fillna(0, inplace = True)"
   ]
  },
  {
   "cell_type": "code",
   "execution_count": 59,
   "metadata": {
    "execution": {
     "iopub.execute_input": "2020-10-30T18:32:30.098931Z",
     "iopub.status.busy": "2020-10-30T18:32:30.097997Z",
     "iopub.status.idle": "2020-10-30T18:32:30.266385Z",
     "shell.execute_reply": "2020-10-30T18:32:30.265880Z"
    },
    "papermill": {
     "duration": 0.25411,
     "end_time": "2020-10-30T18:32:30.266506",
     "exception": false,
     "start_time": "2020-10-30T18:32:30.012396",
     "status": "completed"
    },
    "tags": []
   },
   "outputs": [],
   "source": [
    "X_val['answered_correctly_user'].fillna(0.65,  inplace=True)\n",
    "X_val['explanation_mean_user'].fillna(prior_mean_user,  inplace=True)\n",
    "X_val['quest_pct'].fillna(content_mean,  inplace=True)\n",
    "\n",
    "X_val['part'].fillna(4, inplace = True)\n",
    "X_val['avg_questions_seen'].fillna(1, inplace = True)\n",
    "X_val['prior_question_elapsed_time'].fillna(elapsed_mean, inplace = True)\n",
    "X_val['prior_question_had_explanation_enc'].fillna(0, inplace = True)\n",
    "\n",
    "X_val['part_1'].fillna(0, inplace = True)\n",
    "X_val['part_2'].fillna(0, inplace = True)\n",
    "X_val['part_3'].fillna(0, inplace = True)\n",
    "X_val['part_4'].fillna(0, inplace = True)\n",
    "X_val['part_5'].fillna(0, inplace = True)\n",
    "X_val['part_6'].fillna(0, inplace = True)\n",
    "X_val['part_7'].fillna(0, inplace = True)\n",
    "X_val['type_of_concept'].fillna(0, inplace = True)\n",
    "X_val['type_of_intention'].fillna(0, inplace = True)\n",
    "X_val['type_of_solving_question'].fillna(0, inplace = True)\n",
    "X_val['type_of_starter'].fillna(0, inplace = True)\n",
    "X_val['part_1_boolean'].fillna(0, inplace = True)\n",
    "X_val['part_2_boolean'].fillna(0, inplace = True)\n",
    "X_val['part_3_boolean'].fillna(0, inplace = True)\n",
    "X_val['part_4_boolean'].fillna(0, inplace = True)\n",
    "X_val['part_5_boolean'].fillna(0, inplace = True)\n",
    "X_val['part_6_boolean'].fillna(0, inplace = True)\n",
    "X_val['part_7_boolean'].fillna(0, inplace = True)\n",
    "X_val['type_of_concept_boolean'].fillna(0, inplace = True)\n",
    "X_val['type_of_intention_boolean'].fillna(0, inplace = True)\n",
    "X_val['type_of_solving_question_boolean'].fillna(0, inplace = True)\n",
    "X_val['type_of_starter_boolean'].fillna(0, inplace = True)"
   ]
  },
  {
   "cell_type": "markdown",
   "metadata": {
    "papermill": {
     "duration": 0.067624,
     "end_time": "2020-10-30T18:32:30.402330",
     "exception": false,
     "start_time": "2020-10-30T18:32:30.334706",
     "status": "completed"
    },
    "tags": []
   },
   "source": [
    "## Modeling ##"
   ]
  },
  {
   "cell_type": "code",
   "execution_count": 60,
   "metadata": {
    "execution": {
     "iopub.execute_input": "2020-10-30T18:32:30.547089Z",
     "iopub.status.busy": "2020-10-30T18:32:30.545841Z",
     "iopub.status.idle": "2020-10-30T18:32:34.046469Z",
     "shell.execute_reply": "2020-10-30T18:32:34.047511Z"
    },
    "papermill": {
     "duration": 3.577685,
     "end_time": "2020-10-30T18:32:34.047978",
     "exception": false,
     "start_time": "2020-10-30T18:32:30.470293",
     "status": "completed"
    },
    "tags": []
   },
   "outputs": [],
   "source": [
    "from sklearn.preprocessing import MinMaxScaler\n",
    "scaler = MinMaxScaler(feature_range=(0, 1))\n",
    "X = scaler.fit_transform(X)\n",
    "X_val = scaler.transform(X_val)\n",
    "X_train = X.reshape(X.shape[0], X.shape[1], 1)\n",
    "X_test = X_val.reshape(X_val.shape[0], X_val.shape[1], 1)"
   ]
  },
  {
   "cell_type": "code",
   "execution_count": 61,
   "metadata": {
    "execution": {
     "iopub.execute_input": "2020-10-30T18:32:34.251224Z",
     "iopub.status.busy": "2020-10-30T18:32:34.250408Z",
     "iopub.status.idle": "2020-10-30T18:32:39.237696Z",
     "shell.execute_reply": "2020-10-30T18:32:39.237135Z"
    },
    "papermill": {
     "duration": 5.089542,
     "end_time": "2020-10-30T18:32:39.237819",
     "exception": false,
     "start_time": "2020-10-30T18:32:34.148277",
     "status": "completed"
    },
    "tags": []
   },
   "outputs": [],
   "source": [
    "import tensorflow as tf\n",
    "from tensorflow.keras import Sequential\n",
    "from tensorflow.keras.layers import BatchNormalization,Dropout,Dense,Flatten,Conv1D\n",
    "from tensorflow.keras.optimizers import Adam\n",
    "from keras.metrics import BinaryAccuracy\n",
    "from keras import backend as K\n",
    "from tensorflow import keras\n",
    "from tensorflow.keras import layers"
   ]
  },
  {
   "cell_type": "code",
   "execution_count": 62,
   "metadata": {
    "execution": {
     "iopub.execute_input": "2020-10-30T18:32:39.396360Z",
     "iopub.status.busy": "2020-10-30T18:32:39.395494Z",
     "iopub.status.idle": "2020-10-30T18:32:39.399047Z",
     "shell.execute_reply": "2020-10-30T18:32:39.398517Z"
    },
    "papermill": {
     "duration": 0.091875,
     "end_time": "2020-10-30T18:32:39.399148",
     "exception": false,
     "start_time": "2020-10-30T18:32:39.307273",
     "status": "completed"
    },
    "tags": []
   },
   "outputs": [],
   "source": [
    "class MultiHeadSelfAttention(layers.Layer):\n",
    "    def __init__(self, embed_dim, num_heads=8):\n",
    "        super(MultiHeadSelfAttention, self).__init__()\n",
    "        self.embed_dim = embed_dim\n",
    "        self.num_heads = num_heads\n",
    "        if embed_dim % num_heads != 0:\n",
    "            raise ValueError(\n",
    "                f\"embedding dimension = {embed_dim} should be divisible by number of heads = {num_heads}\"\n",
    "            )\n",
    "        self.projection_dim = embed_dim // num_heads\n",
    "        self.query_dense = layers.Dense(embed_dim)\n",
    "        self.key_dense = layers.Dense(embed_dim)\n",
    "        self.value_dense = layers.Dense(embed_dim)\n",
    "        self.combine_heads = layers.Dense(embed_dim)\n",
    "\n",
    "    def attention(self, query, key, value):\n",
    "        score = tf.matmul(query, key, transpose_b=True)\n",
    "        dim_key = tf.cast(tf.shape(key)[-1], tf.float32)\n",
    "        scaled_score = score / tf.math.sqrt(dim_key)\n",
    "        weights = tf.nn.softmax(scaled_score, axis=-1)\n",
    "        output = tf.matmul(weights, value)\n",
    "        return output, weights\n",
    "\n",
    "    def separate_heads(self, x, batch_size):\n",
    "        x = tf.reshape(x, (batch_size, -1, self.num_heads, self.projection_dim))\n",
    "        return tf.transpose(x, perm=[0, 2, 1, 3])\n",
    "\n",
    "    def call(self, inputs):\n",
    "        # x.shape = [batch_size, seq_len, embedding_dim]\n",
    "        batch_size = tf.shape(inputs)[0]\n",
    "        query = self.query_dense(inputs)  # (batch_size, seq_len, embed_dim)\n",
    "        key = self.key_dense(inputs)  # (batch_size, seq_len, embed_dim)\n",
    "        value = self.value_dense(inputs)  # (batch_size, seq_len, embed_dim)\n",
    "        query = self.separate_heads(\n",
    "            query, batch_size\n",
    "        )  # (batch_size, num_heads, seq_len, projection_dim)\n",
    "        key = self.separate_heads(\n",
    "            key, batch_size\n",
    "        )  # (batch_size, num_heads, seq_len, projection_dim)\n",
    "        value = self.separate_heads(\n",
    "            value, batch_size\n",
    "        )  # (batch_size, num_heads, seq_len, projection_dim)\n",
    "        attention, weights = self.attention(query, key, value)\n",
    "        attention = tf.transpose(\n",
    "            attention, perm=[0, 2, 1, 3]\n",
    "        )  # (batch_size, seq_len, num_heads, projection_dim)\n",
    "        concat_attention = tf.reshape(\n",
    "            attention, (batch_size, -1, self.embed_dim)\n",
    "        )  # (batch_size, seq_len, embed_dim)\n",
    "        output = self.combine_heads(\n",
    "            concat_attention\n",
    "        )  # (batch_size, seq_len, embed_dim)\n",
    "        return output"
   ]
  },
  {
   "cell_type": "code",
   "execution_count": 63,
   "metadata": {
    "execution": {
     "iopub.execute_input": "2020-10-30T18:32:39.546207Z",
     "iopub.status.busy": "2020-10-30T18:32:39.545320Z",
     "iopub.status.idle": "2020-10-30T18:32:39.548228Z",
     "shell.execute_reply": "2020-10-30T18:32:39.547740Z"
    },
    "papermill": {
     "duration": 0.080738,
     "end_time": "2020-10-30T18:32:39.548329",
     "exception": false,
     "start_time": "2020-10-30T18:32:39.467591",
     "status": "completed"
    },
    "tags": []
   },
   "outputs": [],
   "source": [
    "class TransformerBlock(layers.Layer):\n",
    "    def __init__(self, embed_dim, num_heads, ff_dim, rate=0.2):\n",
    "        super(TransformerBlock, self).__init__()\n",
    "        self.att = MultiHeadSelfAttention(embed_dim, num_heads)\n",
    "        self.ffn = keras.Sequential(\n",
    "            [layers.Dense(ff_dim, activation=\"relu\"), layers.Dense(embed_dim),]\n",
    "        )\n",
    "        self.layernorm1 = layers.LayerNormalization(epsilon=1e-6)\n",
    "        self.layernorm2 = layers.LayerNormalization(epsilon=1e-6)\n",
    "        self.dropout1 = layers.Dropout(rate)\n",
    "        self.dropout2 = layers.Dropout(rate)\n",
    "\n",
    "    def call(self, inputs, training):\n",
    "        attn_output = self.att(inputs)\n",
    "        attn_output = self.dropout1(attn_output, training=training)\n",
    "        out1 = self.layernorm1(inputs + attn_output)\n",
    "        ffn_output = self.ffn(out1)\n",
    "        ffn_output = self.dropout2(ffn_output, training=training)\n",
    "        return self.layernorm2(out1 + ffn_output)"
   ]
  },
  {
   "cell_type": "code",
   "execution_count": 64,
   "metadata": {
    "execution": {
     "iopub.execute_input": "2020-10-30T18:32:39.701685Z",
     "iopub.status.busy": "2020-10-30T18:32:39.699166Z",
     "iopub.status.idle": "2020-10-30T18:32:39.702646Z",
     "shell.execute_reply": "2020-10-30T18:32:39.703315Z"
    },
    "papermill": {
     "duration": 0.087495,
     "end_time": "2020-10-30T18:32:39.703457",
     "exception": false,
     "start_time": "2020-10-30T18:32:39.615962",
     "status": "completed"
    },
    "tags": []
   },
   "outputs": [],
   "source": [
    "class TokenAndPositionEmbedding(layers.Layer):\n",
    "    def __init__(self, maxlen, vocab_size, embed_dim):\n",
    "        super(TokenAndPositionEmbedding, self).__init__()\n",
    "        self.token_emb = layers.Embedding(input_dim=vocab_size, output_dim=embed_dim)\n",
    "        self.pos_emb = layers.Embedding(input_dim=maxlen, output_dim=embed_dim)\n",
    "\n",
    "    def call(self, x):\n",
    "        maxlen = tf.shape(x)[-1]\n",
    "        positions = tf.range(start=0, limit=maxlen, delta=1)\n",
    "        positions = self.pos_emb(positions)\n",
    "        x = self.token_emb(x)\n",
    "        return x + positions"
   ]
  },
  {
   "cell_type": "code",
   "execution_count": 65,
   "metadata": {
    "execution": {
     "iopub.execute_input": "2020-10-30T18:32:39.877813Z",
     "iopub.status.busy": "2020-10-30T18:32:39.857342Z",
     "iopub.status.idle": "2020-10-30T18:33:31.802688Z",
     "shell.execute_reply": "2020-10-30T18:33:31.802063Z"
    },
    "papermill": {
     "duration": 52.030794,
     "end_time": "2020-10-30T18:33:31.802803",
     "exception": false,
     "start_time": "2020-10-30T18:32:39.772009",
     "status": "completed"
    },
    "tags": []
   },
   "outputs": [],
   "source": [
    "maxlen = 32 \n",
    "X_train = keras.preprocessing.sequence.pad_sequences(X_train, maxlen=maxlen)\n",
    "X_test = keras.preprocessing.sequence.pad_sequences(X_test, maxlen=maxlen)"
   ]
  },
  {
   "cell_type": "code",
   "execution_count": 66,
   "metadata": {
    "execution": {
     "iopub.execute_input": "2020-10-30T18:33:31.947564Z",
     "iopub.status.busy": "2020-10-30T18:33:31.946904Z",
     "iopub.status.idle": "2020-10-30T18:33:35.152237Z",
     "shell.execute_reply": "2020-10-30T18:33:35.151147Z"
    },
    "papermill": {
     "duration": 3.281511,
     "end_time": "2020-10-30T18:33:35.152365",
     "exception": false,
     "start_time": "2020-10-30T18:33:31.870854",
     "status": "completed"
    },
    "tags": []
   },
   "outputs": [],
   "source": [
    "embed_dim = 32  # Embedding size for each token\n",
    "num_heads = 8  # Number of attention heads\n",
    "ff_dim = 64  # Hidden layer size in feed forward network inside transformer\n",
    "vocab_size = 50000\n",
    "inputs = layers.Input(shape=(maxlen,))\n",
    "embedding_layer = TokenAndPositionEmbedding(maxlen, vocab_size, embed_dim)\n",
    "x = embedding_layer(inputs)\n",
    "transformer_block = TransformerBlock(embed_dim, num_heads, ff_dim)\n",
    "x = transformer_block(x)\n",
    "x = layers.GlobalAveragePooling1D()(x)\n",
    "x = layers.Dropout(0.2)(x)\n",
    "x = layers.Dense(20, activation=\"relu\")(x)\n",
    "x = layers.Dropout(0.2)(x)\n",
    "outputs = layers.Dense(1, activation=\"sigmoid\")(x)\n",
    "\n",
    "model = keras.Model(inputs=inputs, outputs=outputs)"
   ]
  },
  {
   "cell_type": "code",
   "execution_count": 67,
   "metadata": {
    "execution": {
     "iopub.execute_input": "2020-10-30T18:33:35.294839Z",
     "iopub.status.busy": "2020-10-30T18:33:35.293095Z",
     "iopub.status.idle": "2020-10-30T18:33:35.295825Z",
     "shell.execute_reply": "2020-10-30T18:33:35.296300Z"
    },
    "papermill": {
     "duration": 0.075743,
     "end_time": "2020-10-30T18:33:35.296412",
     "exception": false,
     "start_time": "2020-10-30T18:33:35.220669",
     "status": "completed"
    },
    "tags": []
   },
   "outputs": [],
   "source": [
    "from keras.callbacks import EarlyStopping\n",
    "es = EarlyStopping(monitor='val_auc', mode='max',patience=10)"
   ]
  },
  {
   "cell_type": "code",
   "execution_count": 68,
   "metadata": {
    "execution": {
     "iopub.execute_input": "2020-10-30T18:33:35.441490Z",
     "iopub.status.busy": "2020-10-30T18:33:35.440628Z",
     "iopub.status.idle": "2020-10-30T18:56:48.101633Z",
     "shell.execute_reply": "2020-10-30T18:56:48.100661Z"
    },
    "papermill": {
     "duration": 1392.737768,
     "end_time": "2020-10-30T18:56:48.101754",
     "exception": false,
     "start_time": "2020-10-30T18:33:35.363986",
     "status": "completed"
    },
    "tags": []
   },
   "outputs": [
    {
     "name": "stdout",
     "output_type": "stream",
     "text": [
      "Epoch 1/25\n",
      "91/91 [==============================] - 56s 617ms/step - loss: 0.6893 - auc: 0.5389 - val_loss: 0.6616 - val_auc: 0.5131\n",
      "Epoch 2/25\n",
      "91/91 [==============================] - 55s 603ms/step - loss: 0.6747 - auc: 0.6003 - val_loss: 0.6556 - val_auc: 0.5103\n",
      "Epoch 3/25\n",
      "91/91 [==============================] - 55s 603ms/step - loss: 0.6692 - auc: 0.6056 - val_loss: 0.6559 - val_auc: 0.5206\n",
      "Epoch 4/25\n",
      "91/91 [==============================] - 55s 604ms/step - loss: 0.6678 - auc: 0.6086 - val_loss: 0.6553 - val_auc: 0.5234\n",
      "Epoch 5/25\n",
      "91/91 [==============================] - 55s 602ms/step - loss: 0.6672 - auc: 0.6108 - val_loss: 0.6547 - val_auc: 0.5233\n",
      "Epoch 6/25\n",
      "91/91 [==============================] - 55s 602ms/step - loss: 0.6666 - auc: 0.6126 - val_loss: 0.6542 - val_auc: 0.5240\n",
      "Epoch 7/25\n",
      "91/91 [==============================] - 55s 601ms/step - loss: 0.6661 - auc: 0.6135 - val_loss: 0.6545 - val_auc: 0.5241\n",
      "Epoch 8/25\n",
      "91/91 [==============================] - 55s 602ms/step - loss: 0.6658 - auc: 0.6137 - val_loss: 0.6547 - val_auc: 0.5250\n",
      "Epoch 9/25\n",
      "91/91 [==============================] - 55s 602ms/step - loss: 0.6656 - auc: 0.6137 - val_loss: 0.6540 - val_auc: 0.5255\n",
      "Epoch 10/25\n",
      "91/91 [==============================] - 55s 604ms/step - loss: 0.6655 - auc: 0.6140 - val_loss: 0.6537 - val_auc: 0.5268\n",
      "Epoch 11/25\n",
      "91/91 [==============================] - 55s 599ms/step - loss: 0.6654 - auc: 0.6141 - val_loss: 0.6540 - val_auc: 0.5268\n",
      "Epoch 12/25\n",
      "91/91 [==============================] - 55s 601ms/step - loss: 0.6653 - auc: 0.6143 - val_loss: 0.6541 - val_auc: 0.5274\n",
      "Epoch 13/25\n",
      "91/91 [==============================] - 55s 604ms/step - loss: 0.6652 - auc: 0.6143 - val_loss: 0.6539 - val_auc: 0.5275\n",
      "Epoch 14/25\n",
      "91/91 [==============================] - 55s 607ms/step - loss: 0.6653 - auc: 0.6142 - val_loss: 0.6536 - val_auc: 0.5275\n",
      "Epoch 15/25\n",
      "91/91 [==============================] - 55s 607ms/step - loss: 0.6651 - auc: 0.6146 - val_loss: 0.6541 - val_auc: 0.5271\n",
      "Epoch 16/25\n",
      "91/91 [==============================] - 55s 602ms/step - loss: 0.6651 - auc: 0.6148 - val_loss: 0.6542 - val_auc: 0.5280\n",
      "Epoch 17/25\n",
      "91/91 [==============================] - 55s 606ms/step - loss: 0.6650 - auc: 0.6148 - val_loss: 0.6536 - val_auc: 0.5282\n",
      "Epoch 18/25\n",
      "91/91 [==============================] - 55s 607ms/step - loss: 0.6650 - auc: 0.6148 - val_loss: 0.6539 - val_auc: 0.5283\n",
      "Epoch 19/25\n",
      "91/91 [==============================] - 55s 604ms/step - loss: 0.6650 - auc: 0.6149 - val_loss: 0.6537 - val_auc: 0.5286\n",
      "Epoch 20/25\n",
      "91/91 [==============================] - 55s 601ms/step - loss: 0.6651 - auc: 0.6148 - val_loss: 0.6534 - val_auc: 0.5284\n",
      "Epoch 21/25\n",
      "91/91 [==============================] - 55s 605ms/step - loss: 0.6649 - auc: 0.6152 - val_loss: 0.6538 - val_auc: 0.5285\n",
      "Epoch 22/25\n",
      "91/91 [==============================] - 55s 603ms/step - loss: 0.6650 - auc: 0.6151 - val_loss: 0.6537 - val_auc: 0.5286\n",
      "Epoch 23/25\n",
      "91/91 [==============================] - 55s 604ms/step - loss: 0.6649 - auc: 0.6155 - val_loss: 0.6535 - val_auc: 0.5283\n",
      "Epoch 24/25\n",
      "91/91 [==============================] - 55s 602ms/step - loss: 0.6649 - auc: 0.6153 - val_loss: 0.6536 - val_auc: 0.5291\n",
      "Epoch 25/25\n",
      "91/91 [==============================] - 55s 604ms/step - loss: 0.6649 - auc: 0.6155 - val_loss: 0.6541 - val_auc: 0.5287\n"
     ]
    }
   ],
   "source": [
    "model.compile(\"adam\", \"binary_crossentropy\", metrics=[tf.keras.metrics.AUC()])\n",
    "\n",
    "history = model.fit(\n",
    "    X_train, y, epochs=25,verbose=1,validation_split=0.1,batch_size=65536,callbacks=[es]\n",
    ")"
   ]
  },
  {
   "cell_type": "code",
   "execution_count": 69,
   "metadata": {
    "execution": {
     "iopub.execute_input": "2020-10-30T18:56:49.802161Z",
     "iopub.status.busy": "2020-10-30T18:56:49.801030Z",
     "iopub.status.idle": "2020-10-30T18:59:48.530092Z",
     "shell.execute_reply": "2020-10-30T18:59:48.530625Z"
    },
    "papermill": {
     "duration": 179.584828,
     "end_time": "2020-10-30T18:59:48.530782",
     "exception": false,
     "start_time": "2020-10-30T18:56:48.945954",
     "status": "completed"
    },
    "tags": []
   },
   "outputs": [
    {
     "data": {
      "text/plain": [
       "0.5703223605423169"
      ]
     },
     "execution_count": 69,
     "metadata": {},
     "output_type": "execute_result"
    }
   ],
   "source": [
    "y_pred = model.predict(X_test)\n",
    "y_true = np.array(y_val)\n",
    "roc_auc_score(y_true, y_pred)"
   ]
  },
  {
   "cell_type": "markdown",
   "metadata": {
    "papermill": {
     "duration": 0.856903,
     "end_time": "2020-10-30T18:59:50.239874",
     "exception": false,
     "start_time": "2020-10-30T18:59:49.382971",
     "status": "completed"
    },
    "tags": []
   },
   "source": [
    "## Making Predictions for New Data ##"
   ]
  },
  {
   "cell_type": "code",
   "execution_count": 70,
   "metadata": {
    "execution": {
     "iopub.execute_input": "2020-10-30T18:59:52.194576Z",
     "iopub.status.busy": "2020-10-30T18:59:52.193759Z",
     "iopub.status.idle": "2020-10-30T18:59:52.203391Z",
     "shell.execute_reply": "2020-10-30T18:59:52.202910Z"
    },
    "papermill": {
     "duration": 1.122917,
     "end_time": "2020-10-30T18:59:52.203494",
     "exception": false,
     "start_time": "2020-10-30T18:59:51.080577",
     "status": "completed"
    },
    "tags": []
   },
   "outputs": [],
   "source": [
    "import riiideducation\n",
    "env = riiideducation.make_env()\n",
    "iter_test = env.iter_test()"
   ]
  },
  {
   "cell_type": "code",
   "execution_count": 71,
   "metadata": {
    "execution": {
     "iopub.execute_input": "2020-10-30T18:59:54.412916Z",
     "iopub.status.busy": "2020-10-30T18:59:54.411904Z",
     "iopub.status.idle": "2020-10-30T18:59:55.393157Z",
     "shell.execute_reply": "2020-10-30T18:59:55.391918Z"
    },
    "papermill": {
     "duration": 2.149547,
     "end_time": "2020-10-30T18:59:55.393297",
     "exception": false,
     "start_time": "2020-10-30T18:59:53.243750",
     "status": "completed"
    },
    "tags": []
   },
   "outputs": [],
   "source": [
    "for (test_df, sample_prediction_df) in iter_test:\n",
    "    test_df['task_container_id'] = test_df.task_container_id.mask(test_df.task_container_id > 9999, 9999)\n",
    "    test_df = pd.merge(test_df, group3, left_on=['task_container_id'], right_index= True, how=\"left\")\n",
    "    test_df = pd.merge(test_df, question2, left_on = 'content_id', right_on = 'question_id', how = 'left')\n",
    "    test_df = pd.merge(test_df, results_u_final, on=['user_id'],  how=\"left\")\n",
    "    test_df = pd.merge(test_df, results_u2_final, on=['user_id'],  how=\"left\")\n",
    "    \n",
    "    test_df = pd.merge(test_df, user_lecture_stats_part, on=['user_id'], how=\"left\")\n",
    "    test_df['part_1'].fillna(0, inplace = True)\n",
    "    test_df['part_2'].fillna(0, inplace = True)\n",
    "    test_df['part_3'].fillna(0, inplace = True)\n",
    "    test_df['part_4'].fillna(0, inplace = True)\n",
    "    test_df['part_5'].fillna(0, inplace = True)\n",
    "    test_df['part_6'].fillna(0, inplace = True)\n",
    "    test_df['part_7'].fillna(0, inplace = True)\n",
    "    test_df['type_of_concept'].fillna(0, inplace = True)\n",
    "    test_df['type_of_intention'].fillna(0, inplace = True)\n",
    "    test_df['type_of_solving_question'].fillna(0, inplace = True)\n",
    "    test_df['type_of_starter'].fillna(0, inplace = True)\n",
    "    test_df['part_1_boolean'].fillna(0, inplace = True)\n",
    "    test_df['part_2_boolean'].fillna(0, inplace = True)\n",
    "    test_df['part_3_boolean'].fillna(0, inplace = True)\n",
    "    test_df['part_4_boolean'].fillna(0, inplace = True)\n",
    "    test_df['part_5_boolean'].fillna(0, inplace = True)\n",
    "    test_df['part_6_boolean'].fillna(0, inplace = True)\n",
    "    test_df['part_7_boolean'].fillna(0, inplace = True)\n",
    "    test_df['type_of_concept_boolean'].fillna(0, inplace = True)\n",
    "    test_df['type_of_intention_boolean'].fillna(0, inplace = True)\n",
    "    test_df['type_of_solving_question_boolean'].fillna(0, inplace = True)\n",
    "    test_df['type_of_starter_boolean'].fillna(0, inplace = True)\n",
    "    \n",
    "    test_df['answered_correctly_user'].fillna(0.65,  inplace=True)\n",
    "    test_df['explanation_mean_user'].fillna(prior_mean_user,  inplace=True)\n",
    "    test_df['quest_pct'].fillna(content_mean,  inplace=True)\n",
    "    test_df['part'] = test_df.part - 1\n",
    "\n",
    "    test_df['part'].fillna(4, inplace = True)\n",
    "    test_df['avg_questions_seen'].fillna(1, inplace = True)\n",
    "    test_df['prior_question_elapsed_time'].fillna(elapsed_mean, inplace = True)\n",
    "    test_df['prior_question_had_explanation'].fillna(False, inplace=True)\n",
    "    test_df[\"prior_question_had_explanation_enc\"] = lb_make.fit_transform(test_df[\"prior_question_had_explanation\"])\n",
    "    X = test_df[['answered_correctly_user', 'explanation_mean_user', 'quest_pct', 'avg_questions_seen',\n",
    "                                                            'prior_question_elapsed_time','prior_question_had_explanation_enc', 'part',\n",
    "                                                            'part_1', 'part_2', 'part_3', 'part_4', 'part_5', 'part_6', 'part_7',\n",
    "                                                            'type_of_concept', 'type_of_intention', 'type_of_solving_question', 'type_of_starter',\n",
    "                                                            'part_1_boolean', 'part_2_boolean', 'part_3_boolean', 'part_4_boolean', 'part_5_boolean', 'part_6_boolean', 'part_7_boolean',\n",
    "                                                            'type_of_concept_boolean', 'type_of_intention_boolean', 'type_of_solving_question_boolean', 'type_of_starter_boolean']]\n",
    "    X=scaler.transform(X)\n",
    "    X = X.reshape(X.shape[0], X.shape[1], 1)\n",
    "    X = keras.preprocessing.sequence.pad_sequences(X, maxlen=maxlen)\n",
    "    test_df['answered_correctly'] =  model.predict(X)\n",
    "\n",
    "    env.predict(test_df.loc[test_df['content_type_id'] == 0, ['row_id', 'answered_correctly']])"
   ]
  }
 ],
 "metadata": {
  "kernelspec": {
   "display_name": "Python 3",
   "language": "python",
   "name": "python3"
  },
  "language_info": {
   "codemirror_mode": {
    "name": "ipython",
    "version": 3
   },
   "file_extension": ".py",
   "mimetype": "text/x-python",
   "name": "python",
   "nbconvert_exporter": "python",
   "pygments_lexer": "ipython3",
   "version": "3.7.6"
  },
  "papermill": {
   "duration": 2235.200117,
   "end_time": "2020-10-30T18:59:58.325254",
   "environment_variables": {},
   "exception": null,
   "input_path": "__notebook__.ipynb",
   "output_path": "__notebook__.ipynb",
   "parameters": {},
   "start_time": "2020-10-30T18:22:43.125137",
   "version": "2.1.0"
  }
 },
 "nbformat": 4,
 "nbformat_minor": 4
}
